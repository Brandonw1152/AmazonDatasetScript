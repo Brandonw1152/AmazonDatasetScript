{
 "cells": [
  {
   "cell_type": "markdown",
   "id": "fb1162e1",
   "metadata": {},
   "source": [
    "# Amazon Dataset Script"
   ]
  },
  {
   "cell_type": "markdown",
   "id": "849579c5",
   "metadata": {},
   "source": [
    "### Import Statements"
   ]
  },
  {
   "cell_type": "code",
   "execution_count": 28,
   "id": "256f8ba3",
   "metadata": {},
   "outputs": [],
   "source": [
    "import pandas as pd\n",
    "import csv"
   ]
  },
  {
   "cell_type": "markdown",
   "id": "890cba3b",
   "metadata": {},
   "source": [
    "### Root for csv files"
   ]
  },
  {
   "cell_type": "code",
   "execution_count": 4,
   "id": "f3f74aca",
   "metadata": {},
   "outputs": [],
   "source": [
    "root = \"H:\\\\AmazonDataset\\\\amazon_reviews_us_\""
   ]
  },
  {
   "cell_type": "markdown",
   "id": "af3a506f",
   "metadata": {},
   "source": [
    "### Create Customer Data csv File"
   ]
  },
  {
   "cell_type": "code",
   "execution_count": 48,
   "id": "4bee8c3e",
   "metadata": {},
   "outputs": [],
   "source": [
    "headers = ['customer_id', 'num_reviews', 'num_five_star_ratings', 'num_four_star_ratings',\n",
    "          'num_three_star_ratings', 'num_two_star_ratings', 'num_one_star_ratings', 'total_helpful_votes', 'vine',\n",
    "          'num_verified_purchases']\n",
    "\n",
    "with open(root+'customer_data.csv', 'w', newline='') as csvfile:\n",
    "    csvwriter = csv.writer(csvfile)\n",
    "    csvwriter.writerow(headers)\n",
    "csvfile.close()"
   ]
  },
  {
   "cell_type": "markdown",
   "id": "b3ab7055",
   "metadata": {},
   "source": [
    "### Read Apparel_v1_00.tsv"
   ]
  },
  {
   "cell_type": "code",
   "execution_count": 42,
   "id": "c53a6e84",
   "metadata": {
    "scrolled": true
   },
   "outputs": [
    {
     "name": "stdout",
     "output_type": "stream",
     "text": [
      "   customer_id       review_id  star_rating  helpful_votes  total_votes vine  \\\n",
      "0     32158956  R1KKOXHNI8MSXU          4.0            0.0          0.0    N   \n",
      "1      2714559  R26SP2OPDK4HT7          5.0            1.0          2.0    N   \n",
      "2     12608825   RWQEDYAX373I1          5.0            0.0          0.0    N   \n",
      "3     25482800  R231YI7R4GPF6J          5.0            0.0          0.0    N   \n",
      "4      9310286  R3KO3W45DD0L1K          5.0            0.0          0.0    N   \n",
      "\n",
      "  verified_purchase                                    review_headline  \\\n",
      "0                 Y  ★ THESE REALLY DO WORK GREAT WITH SOME TWEAKING ★   \n",
      "1                 Y                    Favorite for winter. Very warm!   \n",
      "2                 Y                         Great Socks for the money.   \n",
      "3                 Y                                         Slick hat!   \n",
      "4                 Y                               I would do it again!   \n",
      "\n",
      "                                         review_body review_date  \n",
      "0  These Really Do Work Great, But You Do Need To...  2013-01-14  \n",
      "1  I love this dress. Absolute favorite for winte...  2014-03-04  \n",
      "2  Nice socks, great colors, just enough support ...  2015-07-12  \n",
      "3  I bought this for my husband and WOW, this is ...  2015-06-03  \n",
      "4  Perfect dress and the customer service was awe...  2015-06-12  \n"
     ]
    }
   ],
   "source": [
    "fields = ['customer_id', 'review_id', 'star_rating', 'helpful_votes', 'total_votes', 'vine', 'verified_purchase', 'review_headline', 'review_body', 'review_date']\n",
    "\n",
    "tsv_data = pd.read_csv(root+\"Apparel_v1_00.tsv\", sep='\\t', error_bad_lines=False, usecols=fields )\n",
    "    \n",
    "    \n",
    "print(tsv_data.head())"
   ]
  },
  {
   "cell_type": "code",
   "execution_count": 31,
   "id": "9c22b5f0",
   "metadata": {},
   "outputs": [
    {
     "data": {
      "text/html": [
       "<div>\n",
       "<style scoped>\n",
       "    .dataframe tbody tr th:only-of-type {\n",
       "        vertical-align: middle;\n",
       "    }\n",
       "\n",
       "    .dataframe tbody tr th {\n",
       "        vertical-align: top;\n",
       "    }\n",
       "\n",
       "    .dataframe thead th {\n",
       "        text-align: right;\n",
       "    }\n",
       "</style>\n",
       "<table border=\"1\" class=\"dataframe\">\n",
       "  <thead>\n",
       "    <tr style=\"text-align: right;\">\n",
       "      <th></th>\n",
       "      <th>customer_id</th>\n",
       "      <th>review_id</th>\n",
       "      <th>product_id</th>\n",
       "      <th>star_rating</th>\n",
       "      <th>helpful_votes</th>\n",
       "      <th>total_votes</th>\n",
       "      <th>vine</th>\n",
       "      <th>verified_purchase</th>\n",
       "      <th>review_headline</th>\n",
       "      <th>review_body</th>\n",
       "      <th>review_date</th>\n",
       "    </tr>\n",
       "  </thead>\n",
       "  <tbody>\n",
       "    <tr>\n",
       "      <th>1045017</th>\n",
       "      <td>33320432</td>\n",
       "      <td>R4RLM7KB5II77</td>\n",
       "      <td>B00L3XT8WY</td>\n",
       "      <td>1.0</td>\n",
       "      <td>8.0</td>\n",
       "      <td>10.0</td>\n",
       "      <td>N</td>\n",
       "      <td>Y</td>\n",
       "      <td>I hate it</td>\n",
       "      <td>Ordered a large but fits like a small.</td>\n",
       "      <td>2014-09-09</td>\n",
       "    </tr>\n",
       "  </tbody>\n",
       "</table>\n",
       "</div>"
      ],
      "text/plain": [
       "         customer_id      review_id  product_id  star_rating  helpful_votes  \\\n",
       "1045017     33320432  R4RLM7KB5II77  B00L3XT8WY          1.0            8.0   \n",
       "\n",
       "         total_votes vine verified_purchase review_headline  \\\n",
       "1045017         10.0    N                 Y       I hate it   \n",
       "\n",
       "                                    review_body review_date  \n",
       "1045017  Ordered a large but fits like a small.  2014-09-09  "
      ]
     },
     "execution_count": 31,
     "metadata": {},
     "output_type": "execute_result"
    }
   ],
   "source": [
    "tsv_data.query('customer_id == 33320432')"
   ]
  },
  {
   "cell_type": "code",
   "execution_count": 56,
   "id": "b1771a8b",
   "metadata": {},
   "outputs": [
    {
     "name": "stdout",
     "output_type": "stream",
     "text": [
      "4.0\n",
      "1\n",
      "0    2\n",
      "Name: num_reviews, dtype: int64\n"
     ]
    }
   ],
   "source": [
    "for i in range(len(tsv_data)):\n",
    "    customer_id = tsv_data.values[i][0]\n",
    "    star_rating = tsv_data.values[i][2]\n",
    "    helpful_votes = tsv_data.values[i][3]\n",
    "    vine = tsv_data.values[i][5]\n",
    "    num_reviews = 1\n",
    "    \n",
    "    print(star_rating)\n",
    "    \n",
    "    if tsv_data.values[i][6] == 'Y':\n",
    "        verified_purchases = 1\n",
    "    else:\n",
    "        verified_purchases = 0\n",
    "        \n",
    "    print(verified_purchases)\n",
    "    \n",
    "    if star_rating == 1.0:\n",
    "        num_five_star_ratings = 0\n",
    "        num_four_star_ratings = 0\n",
    "        num_three_star_ratings = 0\n",
    "        num_two_star_ratings = 0\n",
    "        num_one_star_ratings = 1\n",
    "    elif star_rating == 2.0:\n",
    "        num_five_star_ratings = 0\n",
    "        num_four_star_ratings = 0\n",
    "        num_three_star_ratings = 0\n",
    "        num_two_star_ratings = 1\n",
    "        num_one_star_ratings = 0\n",
    "    elif star_rating == 3.0:\n",
    "        num_five_star_ratings = 0\n",
    "        num_four_star_ratings = 0\n",
    "        num_three_star_ratings = 1\n",
    "        num_two_star_ratings = 0\n",
    "        num_one_star_ratings = 0\n",
    "    elif star_rating == 4.0:\n",
    "        num_five_star_ratings = 0\n",
    "        num_four_star_ratings = 1\n",
    "        num_three_star_ratings = 0\n",
    "        num_two_star_ratings = 0\n",
    "        num_one_star_ratings = 0\n",
    "    elif star_rating == 5.0:\n",
    "        num_five_star_ratings = 1\n",
    "        num_four_star_ratings = 0\n",
    "        num_three_star_ratings = 0\n",
    "        num_two_star_ratings = 0\n",
    "        num_one_star_ratings = 0\n",
    "        \n",
    "    row = [customer_id, num_reviews, num_five_star_ratings, num_four_star_ratings, num_three_star_ratings, num_two_star_ratings,\n",
    "          num_one_star_ratings, helpful_votes, vine, verified_purchases]\n",
    "    \n",
    "    df = pd.read_csv(root+\"customer_data.csv\")\n",
    "    \n",
    "    if customer_id in df.values:\n",
    "        df.loc[df['customer_id'] == customer_id, 'num_reviews'] += num_reviews\n",
    "        print(df.loc[df['customer_id'] == customer_id, 'num_reviews'])\n",
    "        \n",
    "    else:\n",
    "        with open(root+'customer_data.csv', 'a', newline='') as csvfile:\n",
    "            csvwriter = csv.writer(csvfile)\n",
    "            csvwriter.writerow(row)\n",
    "        csvfile.close()\n",
    "    \n",
    "    break"
   ]
  },
  {
   "cell_type": "code",
   "execution_count": null,
   "id": "157b8c6d",
   "metadata": {},
   "outputs": [],
   "source": []
  }
 ],
 "metadata": {
  "kernelspec": {
   "display_name": "Python 3",
   "language": "python",
   "name": "python3"
  },
  "language_info": {
   "codemirror_mode": {
    "name": "ipython",
    "version": 3
   },
   "file_extension": ".py",
   "mimetype": "text/x-python",
   "name": "python",
   "nbconvert_exporter": "python",
   "pygments_lexer": "ipython3",
   "version": "3.8.8"
  }
 },
 "nbformat": 4,
 "nbformat_minor": 5
}
