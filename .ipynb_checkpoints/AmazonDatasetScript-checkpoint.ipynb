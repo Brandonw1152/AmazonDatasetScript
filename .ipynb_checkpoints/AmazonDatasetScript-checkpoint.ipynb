{
 "cells": [
  {
   "cell_type": "markdown",
   "id": "fb1162e1",
   "metadata": {},
   "source": [
    "# Amazon Dataset Script"
   ]
  },
  {
   "cell_type": "markdown",
   "id": "849579c5",
   "metadata": {},
   "source": [
    "### Import Statements"
   ]
  },
  {
   "cell_type": "code",
   "execution_count": 1,
   "id": "256f8ba3",
   "metadata": {},
   "outputs": [],
   "source": [
    "import pandas as pd\n",
    "import dask.dataframe as dd\n",
    "import csv\n",
    "import shutil\n",
    "from tempfile import NamedTemporaryFile\n",
    "from tqdm import tqdm"
   ]
  },
  {
   "cell_type": "markdown",
   "id": "890cba3b",
   "metadata": {},
   "source": [
    "### Root for csv files"
   ]
  },
  {
   "cell_type": "code",
   "execution_count": 2,
   "id": "f3f74aca",
   "metadata": {},
   "outputs": [],
   "source": [
    "root = \"H:\\\\AmazonDataset\\\\amazon_reviews_us_\""
   ]
  },
  {
   "cell_type": "markdown",
   "id": "af3a506f",
   "metadata": {},
   "source": [
    "### Create Customer Data csv File"
   ]
  },
  {
   "cell_type": "code",
   "execution_count": 20,
   "id": "4bee8c3e",
   "metadata": {},
   "outputs": [],
   "source": [
    "headers = ['customer_id', 'num_reviews', 'num_five_star_ratings', 'num_four_star_ratings',\n",
    "          'num_three_star_ratings', 'num_two_star_ratings', 'num_one_star_ratings', 'total_helpful_votes', 'vine',\n",
    "          'num_verified_purchases']\n",
    "\n",
    "with open(root+'customer_data.csv', 'w', newline='') as csvfile:\n",
    "    csvwriter = csv.writer(csvfile)\n",
    "    csvwriter.writerow(headers)\n",
    "csvfile.close()"
   ]
  },
  {
   "cell_type": "markdown",
   "id": "2d897c56",
   "metadata": {},
   "source": [
    "### Testing Editing Rows and Appending Rows using Dask"
   ]
  },
  {
   "cell_type": "code",
   "execution_count": 33,
   "id": "748a580f",
   "metadata": {},
   "outputs": [],
   "source": [
    "ddf = dd.read_csv(root+\"customer_data.csv\")\n",
    "# ddf['num_reviews'] = ddf.customer_id.where(ddf.customer_id == 17747349, ddf.num_reviews+1)\n",
    "cust = 17747349\n",
    "no_reviews = 1\n",
    "helpful_votes = 3\n",
    "no_five_star_ratings = 1\n",
    "no_four_star_ratings = 0\n",
    "no_three_star_ratings = 0\n",
    "no_two_star_ratings = 0\n",
    "no_one_star_ratings = 0\n",
    "verified_purchases = 1\n",
    "vine = 'N'\n",
    "\n",
    "ls = [cust, no_reviews, no_five_star_ratings, no_four_star_ratings, no_three_star_ratings, no_two_star_ratings, no_one_star_ratings, helpful_votes, vine, verified_purchases]\n",
    "row = pd.Series(ls, index=ddf.columns)\n",
    "\n",
    "if cust in ddf.customer_id:\n",
    "    ddf['num_reviews'] = ddf.num_reviews.where(ddf.customer_id == cust, ddf.num_reviews-no_reviews) + no_reviews\n",
    "    ddf['num_five_star_ratings'] = ddf.num_five_star_ratings.where(ddf.customer_id == cust, ddf.num_five_star_ratings-no_five_star_ratings) + no_five_star_ratings\n",
    "    ddf['num_four_star_ratings'] = ddf.num_four_star_ratings.where(ddf.customer_id == cust, ddf.num_four_star_ratings-no_four_star_ratings) + no_four_star_ratings\n",
    "    ddf['num_three_star_ratings'] = ddf.num_three_star_ratings.where(ddf.customer_id == cust, ddf.num_three_star_ratings-no_three_star_ratings) + no_three_star_ratings\n",
    "    ddf['num_two_star_ratings'] = ddf.num_two_star_ratings.where(ddf.customer_id == cust, ddf.num_two_star_ratings-no_two_star_ratings) + no_two_star_ratings\n",
    "    ddf['num_one_star_ratings'] = ddf.num_one_star_ratings.where(ddf.customer_id == cust, ddf.num_one_star_ratings-no_one_star_ratings) + no_one_star_ratings\n",
    "    ddf['total_helpful_votes'] = ddf.total_helpful_votes.where(ddf.customer_id == cust, ddf.total_helpful_votes-helpful_votes) + helpful_votes\n",
    "    ddf['num_verified_purchases'] = ddf.num_verified_purchases.where(ddf.customer_id == cust, ddf.num_verified_purchases-verified_purchases) + verified_purchases\n",
    "else:\n",
    "    ddf = ddf.append(row)\n",
    "   #ddf['num_reviews'] = ddf.num_reviews.where(ddf.customer_id == 17747349, ddf.num_reviews-1) + 1\n",
    "ddf.compute().to_csv(root+\"customer_data_0.csv\", index=False)\n",
    "#ddf.to_csv(root+\"customer_data-*.csv\", index=False)"
   ]
  },
  {
   "cell_type": "markdown",
   "id": "c173cd06",
   "metadata": {},
   "source": [
    "### Function For Writing Customer Data Into CSV"
   ]
  },
  {
   "cell_type": "code",
   "execution_count": 61,
   "id": "b1771a8b",
   "metadata": {},
   "outputs": [],
   "source": [
    "def write_into_csv(tsv_data):\n",
    "    \n",
    "    nddf = dd.from_pandas(tsv_data, chunksize=128)\n",
    "    #nddf['num_reviews'] = nddf['num_reviews'].astype(int) \n",
    "    ddf = dd.read_csv(root+\"customer_data.csv\")\n",
    "    print(nddf)\n",
    "    print(ddf)\n",
    "\n",
    "    for i in range(len(nddf)):\n",
    "        customer_id = tsv_data.values[i][0]\n",
    "        #print(f\"CustomerID: {customer_id}\")\n",
    "        star_rating = tsv_data.values[i][2]\n",
    "        #print(f\"StarRating: {star_rating}\")\n",
    "        helpful_votes = tsv_data.values[i][3]\n",
    "        #print(f\"HelpfulVotes: {helpful_votes}\")\n",
    "        vine = tsv_data.values[i][5]\n",
    "        num_reviews = 1\n",
    "        #print(f\"NumReviews: {num_reviews}\")\n",
    "\n",
    "        if tsv_data.values[i][6] == 'Y':\n",
    "            verified_purchases = 1\n",
    "        else:\n",
    "            verified_purchases = 0\n",
    "\n",
    "        if star_rating == 1.0:\n",
    "            num_five_star_ratings = 0\n",
    "            num_four_star_ratings = 0\n",
    "            num_three_star_ratings = 0\n",
    "            num_two_star_ratings = 0\n",
    "            num_one_star_ratings = 1\n",
    "        elif star_rating == 2.0:\n",
    "            num_five_star_ratings = 0\n",
    "            num_four_star_ratings = 0\n",
    "            num_three_star_ratings = 0\n",
    "            num_two_star_ratings = 1\n",
    "            num_one_star_ratings = 0\n",
    "        elif star_rating == 3.0:\n",
    "            num_five_star_ratings = 0\n",
    "            num_four_star_ratings = 0\n",
    "            num_three_star_ratings = 1\n",
    "            num_two_star_ratings = 0\n",
    "            num_one_star_ratings = 0\n",
    "        elif star_rating == 4.0:\n",
    "            num_five_star_ratings = 0\n",
    "            num_four_star_ratings = 1\n",
    "            num_three_star_ratings = 0\n",
    "            num_two_star_ratings = 0\n",
    "            num_one_star_ratings = 0\n",
    "        elif star_rating == 5.0:\n",
    "            num_five_star_ratings = 1\n",
    "            num_four_star_ratings = 0\n",
    "            num_three_star_ratings = 0\n",
    "            num_two_star_ratings = 0\n",
    "            num_one_star_ratings = 0\n",
    "\n",
    "        newRow = [customer_id, num_reviews, num_five_star_ratings, num_four_star_ratings, num_three_star_ratings, num_two_star_ratings,\n",
    "              num_one_star_ratings, helpful_votes, vine, verified_purchases]\n",
    "        newRow = pd.Series(ls, index=ddf.columns)\n",
    "        \n",
    "        if customer_id in ddf.customer_id:\n",
    "            print('eddit row')\n",
    "            print(type(customer_id), type(num_reviews), type(ddf.customer_id), type(ddf.num_reviews), type(ddf['num_reviews']))\n",
    "            #print(ddf.num_reviews.where(ddf.customer_id == int(customer_id), ddf.num_reviews))\n",
    "            print(ddf.head())\n",
    "            ddf['num_reviews'] = ddf.num_reviews.where(ddf.customer_id == int(customer_id), ddf.num_reviews-int(num_reviews)) + int(num_reviews)\n",
    "            ddf['num_five_star_ratings'] = ddf.num_five_star_ratings.where(ddf.customer_id == customer_id, ddf.num_five_star_ratings-int(num_five_star_ratings)) + int(num_five_star_ratings)\n",
    "            ddf['num_four_star_ratings'] = ddf.num_four_star_ratings.where(ddf.customer_id == customer_id, ddf.num_four_star_ratings-int(num_four_star_ratings)) + int(num_four_star_ratings)\n",
    "            ddf['num_three_star_ratings'] = ddf.num_three_star_ratings.where(ddf.customer_id == customer_id, ddf.num_three_star_ratings-int(num_three_star_ratings)) + int(num_three_star_ratings)\n",
    "            ddf['num_two_star_ratings'] = ddf.num_two_star_ratings.where(ddf.customer_id == customer_id, ddf.num_two_star_ratings-int(num_two_star_ratings)) + int(num_two_star_ratings)\n",
    "            ddf['num_one_star_ratings'] = ddf.num_one_star_ratings.where(ddf.customer_id == customer_id, ddf.num_one_star_ratings-int(num_one_star_ratings)) + int(num_one_star_ratings)\n",
    "            ddf['total_helpful_votes'] = ddf.total_helpful_votes.where(ddf.customer_id == customer_id, ddf.total_helpful_votes-int(helpful_votes)) + int(helpful_votes)\n",
    "            ddf['num_verified_purchases'] = ddf.num_verified_purchases.where(ddf.customer_id == customer_id, ddf.num_verified_purchases-int(verified_purchases)) + int(verified_purchases)\n",
    "        else:\n",
    "            print('appening row')\n",
    "            ddf = ddf.append(newRow)\n",
    "\n",
    "    ddf.compute().to_csv(root+\"customer_data_0.csv\", index=False)\n",
    "        #df = pd.read_csv(root+\"customer_data.csv\")\n",
    "\n",
    "#         if customer_id in df.values:\n",
    "            \n",
    "#             filename = root + \"customer_data.csv\"\n",
    "#             tempfile = NamedTemporaryFile(mode='w', delete=False)\n",
    "            \n",
    "#             fields = ['customer_id', 'num_reviews', 'num_five_star_ratings', 'num_four_star_ratings',\n",
    "#           'num_three_star_ratings', 'num_two_star_ratings', 'num_one_star_ratings', 'total_helpful_votes', 'vine',\n",
    "#           'num_verified_purchases']\n",
    "            \n",
    "#             with open(filename, 'r', newline='') as csvfile, tempfile:\n",
    "#                 reader = csv.DictReader(csvfile, fieldnames = fields)\n",
    "#                 writer = csv.DictWriter(tempfile, fieldnames = fields)\n",
    "#                 for row in reader:\n",
    "#                     if row['customer_id'] == str(customer_id):\n",
    "#                         #print('updating customer', row['customer_id'])\n",
    "#                         row['num_reviews'] = str(int(row['num_reviews']) + int(num_reviews))\n",
    "#                         row['num_five_star_ratings'] = str(int(row['num_five_star_ratings']) + int(num_five_star_ratings))\n",
    "#                         row['num_four_star_ratings'] = str(int(row['num_four_star_ratings']) + int(num_four_star_ratings))\n",
    "#                         row['num_three_star_ratings'] = str(int(row['num_three_star_ratings']) + int(num_three_star_ratings))\n",
    "#                         row['num_two_star_ratings'] = str(int(row['num_two_star_ratings']) + int(num_two_star_ratings))\n",
    "#                         row['num_one_star_ratings'] = str(int(row['num_one_star_ratings']) + int(num_one_star_ratings))\n",
    "#                         row['total_helpful_votes'] = str(int(float(row['total_helpful_votes'])) + int(float(helpful_votes)))\n",
    "#                         row['vine'] = vine\n",
    "#                         row['num_verified_purchases'] = str(int(row['num_verified_purchases']) + int(verified_purchases))\n",
    "                        \n",
    "#                     row = {'customer_id': row['customer_id'], 'num_reviews': row['num_reviews'], 'num_five_star_ratings': row['num_five_star_ratings'], \n",
    "#                           'num_four_star_ratings': row['num_four_star_ratings'], 'num_three_star_ratings': row['num_three_star_ratings'], 'num_two_star_ratings': row['num_two_star_ratings'],\n",
    "#                           'num_one_star_ratings': row['num_one_star_ratings'], 'total_helpful_votes': row['total_helpful_votes'], 'vine': row['vine'],\n",
    "#                           'num_verified_purchases': row['num_verified_purchases']}\n",
    "#                     writer.writerow(row)\n",
    "                    \n",
    "#             shutil.move(tempfile.name, filename)\n",
    "#         else:\n",
    "#             with open(root+'customer_data.csv', 'a', newline='') as csvfile:\n",
    "#                 csvwriter = csv.writer(csvfile)\n",
    "#                 csvwriter.writerow(newRow)\n",
    "#             csvfile.close()\n"
   ]
  },
  {
   "cell_type": "markdown",
   "id": "b3ab7055",
   "metadata": {},
   "source": [
    "### Read Apparel_v1_00.tsv"
   ]
  },
  {
   "cell_type": "code",
   "execution_count": 18,
   "id": "c53a6e84",
   "metadata": {
    "scrolled": true
   },
   "outputs": [
    {
     "name": "stderr",
     "output_type": "stream",
     "text": [
      "  0%|          | 39/5881951 [03:34<8970:05:49,  5.49s/it]\n"
     ]
    },
    {
     "ename": "ValueError",
     "evalue": "invalid literal for int() with base 10: '0.0'",
     "output_type": "error",
     "traceback": [
      "\u001b[1;31m---------------------------------------------------------------------------\u001b[0m",
      "\u001b[1;31mValueError\u001b[0m                                Traceback (most recent call last)",
      "\u001b[1;32m<ipython-input-18-5bb6302b52bd>\u001b[0m in \u001b[0;36m<module>\u001b[1;34m\u001b[0m\n\u001b[0;32m      7\u001b[0m \u001b[1;33m\u001b[0m\u001b[0m\n\u001b[0;32m      8\u001b[0m \u001b[0mApparel_data\u001b[0m \u001b[1;33m=\u001b[0m \u001b[0mpd\u001b[0m\u001b[1;33m.\u001b[0m\u001b[0mread_csv\u001b[0m\u001b[1;33m(\u001b[0m\u001b[0mroot\u001b[0m\u001b[1;33m+\u001b[0m\u001b[1;34m\"Apparel_v1_00.tsv\"\u001b[0m\u001b[1;33m,\u001b[0m \u001b[0msep\u001b[0m\u001b[1;33m=\u001b[0m\u001b[1;34m'\\t'\u001b[0m\u001b[1;33m,\u001b[0m \u001b[0merror_bad_lines\u001b[0m\u001b[1;33m=\u001b[0m\u001b[1;32mFalse\u001b[0m\u001b[1;33m,\u001b[0m \u001b[0musecols\u001b[0m\u001b[1;33m=\u001b[0m\u001b[0mfields\u001b[0m\u001b[1;33m)\u001b[0m\u001b[1;33m\u001b[0m\u001b[1;33m\u001b[0m\u001b[0m\n\u001b[1;32m----> 9\u001b[1;33m \u001b[0mwrite_into_csv\u001b[0m\u001b[1;33m(\u001b[0m\u001b[0mApparel_data\u001b[0m\u001b[1;33m)\u001b[0m\u001b[1;33m\u001b[0m\u001b[1;33m\u001b[0m\u001b[0m\n\u001b[0m\u001b[0;32m     10\u001b[0m     \u001b[1;31m#write_into_csv(Apparel_data)\u001b[0m\u001b[1;33m\u001b[0m\u001b[1;33m\u001b[0m\u001b[1;33m\u001b[0m\u001b[0m\n\u001b[0;32m     11\u001b[0m     \u001b[1;31m#batch_num = batch_num + 1\u001b[0m\u001b[1;33m\u001b[0m\u001b[1;33m\u001b[0m\u001b[1;33m\u001b[0m\u001b[0m\n",
      "\u001b[1;32m<ipython-input-16-e35ea68211bf>\u001b[0m in \u001b[0;36mwrite_into_csv\u001b[1;34m(tsv_data)\u001b[0m\n\u001b[0;32m     74\u001b[0m                         \u001b[0mrow\u001b[0m\u001b[1;33m[\u001b[0m\u001b[1;34m'num_two_star_ratings'\u001b[0m\u001b[1;33m]\u001b[0m \u001b[1;33m=\u001b[0m \u001b[0mstr\u001b[0m\u001b[1;33m(\u001b[0m\u001b[0mint\u001b[0m\u001b[1;33m(\u001b[0m\u001b[0mrow\u001b[0m\u001b[1;33m[\u001b[0m\u001b[1;34m'num_two_star_ratings'\u001b[0m\u001b[1;33m]\u001b[0m\u001b[1;33m)\u001b[0m \u001b[1;33m+\u001b[0m \u001b[0mint\u001b[0m\u001b[1;33m(\u001b[0m\u001b[0mnum_two_star_ratings\u001b[0m\u001b[1;33m)\u001b[0m\u001b[1;33m)\u001b[0m\u001b[1;33m\u001b[0m\u001b[1;33m\u001b[0m\u001b[0m\n\u001b[0;32m     75\u001b[0m                         \u001b[0mrow\u001b[0m\u001b[1;33m[\u001b[0m\u001b[1;34m'num_one_star_ratings'\u001b[0m\u001b[1;33m]\u001b[0m \u001b[1;33m=\u001b[0m \u001b[0mstr\u001b[0m\u001b[1;33m(\u001b[0m\u001b[0mint\u001b[0m\u001b[1;33m(\u001b[0m\u001b[0mrow\u001b[0m\u001b[1;33m[\u001b[0m\u001b[1;34m'num_one_star_ratings'\u001b[0m\u001b[1;33m]\u001b[0m\u001b[1;33m)\u001b[0m \u001b[1;33m+\u001b[0m \u001b[0mint\u001b[0m\u001b[1;33m(\u001b[0m\u001b[0mnum_one_star_ratings\u001b[0m\u001b[1;33m)\u001b[0m\u001b[1;33m)\u001b[0m\u001b[1;33m\u001b[0m\u001b[1;33m\u001b[0m\u001b[0m\n\u001b[1;32m---> 76\u001b[1;33m                         \u001b[0mrow\u001b[0m\u001b[1;33m[\u001b[0m\u001b[1;34m'total_helpful_votes'\u001b[0m\u001b[1;33m]\u001b[0m \u001b[1;33m=\u001b[0m \u001b[0mstr\u001b[0m\u001b[1;33m(\u001b[0m\u001b[0mint\u001b[0m\u001b[1;33m(\u001b[0m\u001b[0mrow\u001b[0m\u001b[1;33m[\u001b[0m\u001b[1;34m'total_helpful_votes'\u001b[0m\u001b[1;33m]\u001b[0m\u001b[1;33m)\u001b[0m \u001b[1;33m+\u001b[0m \u001b[0mint\u001b[0m\u001b[1;33m(\u001b[0m\u001b[0mhelpful_votes\u001b[0m\u001b[1;33m)\u001b[0m\u001b[1;33m)\u001b[0m\u001b[1;33m\u001b[0m\u001b[1;33m\u001b[0m\u001b[0m\n\u001b[0m\u001b[0;32m     77\u001b[0m                         \u001b[0mrow\u001b[0m\u001b[1;33m[\u001b[0m\u001b[1;34m'vine'\u001b[0m\u001b[1;33m]\u001b[0m \u001b[1;33m=\u001b[0m \u001b[0mvine\u001b[0m\u001b[1;33m\u001b[0m\u001b[1;33m\u001b[0m\u001b[0m\n\u001b[0;32m     78\u001b[0m                         \u001b[0mrow\u001b[0m\u001b[1;33m[\u001b[0m\u001b[1;34m'num_verified_purchases'\u001b[0m\u001b[1;33m]\u001b[0m \u001b[1;33m=\u001b[0m \u001b[0mstr\u001b[0m\u001b[1;33m(\u001b[0m\u001b[0mint\u001b[0m\u001b[1;33m(\u001b[0m\u001b[0mfloat\u001b[0m\u001b[1;33m(\u001b[0m\u001b[0mrow\u001b[0m\u001b[1;33m[\u001b[0m\u001b[1;34m'num_verified_purchases'\u001b[0m\u001b[1;33m]\u001b[0m\u001b[1;33m)\u001b[0m\u001b[1;33m)\u001b[0m \u001b[1;33m+\u001b[0m \u001b[0mint\u001b[0m\u001b[1;33m(\u001b[0m\u001b[0mfloat\u001b[0m\u001b[1;33m(\u001b[0m\u001b[0mverified_purchases\u001b[0m\u001b[1;33m)\u001b[0m\u001b[1;33m)\u001b[0m\u001b[1;33m)\u001b[0m\u001b[1;33m\u001b[0m\u001b[1;33m\u001b[0m\u001b[0m\n",
      "\u001b[1;31mValueError\u001b[0m: invalid literal for int() with base 10: '0.0'"
     ]
    }
   ],
   "source": [
    "fields = ['customer_id', 'review_id', 'star_rating', 'helpful_votes', 'total_votes', 'vine', 'verified_purchase']\n",
    "batch_num = 0\n",
    "batch_size = 128\n",
    "\n",
    "#for j in tqdm(range(len(pd.read_csv(root+\"Apparel_v1_00.tsv\", sep='\\t', error_bad_lines=False, usecols=fields))//batch_size)):\n",
    "    #Apparel_data = pd.read_csv(root+\"Apparel_v1_00.tsv\", sep='\\t', error_bad_lines=False, usecols=fields, skiprows=range(1, batch_num*batch_size), nrows=batch_size)\n",
    "\n",
    "Apparel_data = pd.read_csv(root+\"Apparel_v1_00.tsv\", sep='\\t', error_bad_lines=False, usecols=fields)\n",
    "write_into_csv(Apparel_data)    \n",
    "    #write_into_csv(Apparel_data)\n",
    "    #batch_num = batch_num + 1"
   ]
  },
  {
   "cell_type": "markdown",
   "id": "70465bc7",
   "metadata": {},
   "source": [
    "### Read Digital_Software_v1_00.tsv"
   ]
  },
  {
   "cell_type": "code",
   "execution_count": 45,
   "id": "157b8c6d",
   "metadata": {},
   "outputs": [
    {
     "name": "stdout",
     "output_type": "stream",
     "text": [
      "eddit row\n",
      "<class 'int'> <class 'int'> <class 'dask.dataframe.core.Series'> <class 'dask.dataframe.core.Series'>\n",
      "Dask Series Structure:\n",
      "npartitions=1\n",
      "    int64\n",
      "      ...\n",
      "Name: num_reviews, dtype: int64\n",
      "Dask Name: where, 5 tasks\n",
      "eddit row\n",
      "<class 'int'> <class 'int'> <class 'dask.dataframe.core.Series'> <class 'dask.dataframe.core.Series'>\n",
      "Dask Series Structure:\n",
      "npartitions=1\n",
      "    int64\n",
      "      ...\n",
      "Name: num_reviews, dtype: int64\n",
      "Dask Name: where, 61 tasks\n",
      "eddit row\n",
      "<class 'int'> <class 'int'> <class 'dask.dataframe.core.Series'> <class 'dask.dataframe.core.Series'>\n",
      "Dask Series Structure:\n",
      "npartitions=1\n",
      "    int64\n",
      "      ...\n",
      "Name: num_reviews, dtype: int64\n",
      "Dask Name: where, 117 tasks\n",
      "eddit row\n",
      "<class 'int'> <class 'int'> <class 'dask.dataframe.core.Series'> <class 'dask.dataframe.core.Series'>\n",
      "Dask Series Structure:\n",
      "npartitions=1\n",
      "    int64\n",
      "      ...\n",
      "Name: num_reviews, dtype: int64\n",
      "Dask Name: where, 173 tasks\n",
      "eddit row\n",
      "<class 'int'> <class 'int'> <class 'dask.dataframe.core.Series'> <class 'dask.dataframe.core.Series'>\n",
      "Dask Series Structure:\n",
      "npartitions=1\n",
      "    int64\n",
      "      ...\n",
      "Name: num_reviews, dtype: int64\n",
      "Dask Name: where, 229 tasks\n",
      "eddit row\n",
      "<class 'int'> <class 'int'> <class 'dask.dataframe.core.Series'> <class 'dask.dataframe.core.Series'>\n",
      "Dask Series Structure:\n",
      "npartitions=1\n",
      "    int64\n",
      "      ...\n",
      "Name: num_reviews, dtype: int64\n",
      "Dask Name: where, 285 tasks\n",
      "eddit row\n",
      "<class 'int'> <class 'int'> <class 'dask.dataframe.core.Series'> <class 'dask.dataframe.core.Series'>\n",
      "Dask Series Structure:\n",
      "npartitions=1\n",
      "    int64\n",
      "      ...\n",
      "Name: num_reviews, dtype: int64\n",
      "Dask Name: where, 341 tasks\n",
      "eddit row\n",
      "<class 'int'> <class 'int'> <class 'dask.dataframe.core.Series'> <class 'dask.dataframe.core.Series'>\n",
      "Dask Series Structure:\n",
      "npartitions=1\n",
      "    int64\n",
      "      ...\n",
      "Name: num_reviews, dtype: int64\n",
      "Dask Name: where, 397 tasks\n"
     ]
    },
    {
     "ename": "KeyboardInterrupt",
     "evalue": "",
     "output_type": "error",
     "traceback": [
      "\u001b[1;31m---------------------------------------------------------------------------\u001b[0m",
      "\u001b[1;31mKeyboardInterrupt\u001b[0m                         Traceback (most recent call last)",
      "\u001b[1;32m<ipython-input-45-ab9be006ea43>\u001b[0m in \u001b[0;36m<module>\u001b[1;34m\u001b[0m\n\u001b[0;32m      7\u001b[0m \u001b[1;33m\u001b[0m\u001b[0m\n\u001b[0;32m      8\u001b[0m \u001b[0mApparel_data\u001b[0m \u001b[1;33m=\u001b[0m \u001b[0mpd\u001b[0m\u001b[1;33m.\u001b[0m\u001b[0mread_csv\u001b[0m\u001b[1;33m(\u001b[0m\u001b[0mroot\u001b[0m\u001b[1;33m+\u001b[0m\u001b[1;34m\"Digital_Software_v1_00.tsv\"\u001b[0m\u001b[1;33m,\u001b[0m \u001b[0msep\u001b[0m\u001b[1;33m=\u001b[0m\u001b[1;34m'\\t'\u001b[0m\u001b[1;33m,\u001b[0m \u001b[0merror_bad_lines\u001b[0m\u001b[1;33m=\u001b[0m\u001b[1;32mFalse\u001b[0m\u001b[1;33m,\u001b[0m \u001b[0musecols\u001b[0m\u001b[1;33m=\u001b[0m\u001b[0mfields\u001b[0m\u001b[1;33m)\u001b[0m\u001b[1;33m\u001b[0m\u001b[1;33m\u001b[0m\u001b[0m\n\u001b[1;32m----> 9\u001b[1;33m \u001b[0mwrite_into_csv\u001b[0m\u001b[1;33m(\u001b[0m\u001b[0mApparel_data\u001b[0m\u001b[1;33m)\u001b[0m\u001b[1;33m\u001b[0m\u001b[1;33m\u001b[0m\u001b[0m\n\u001b[0m\u001b[0;32m     10\u001b[0m     \u001b[1;31m#write_into_csv(Apparel_data)\u001b[0m\u001b[1;33m\u001b[0m\u001b[1;33m\u001b[0m\u001b[1;33m\u001b[0m\u001b[0m\n\u001b[0;32m     11\u001b[0m     \u001b[1;31m#batch_num = batch_num + 1\u001b[0m\u001b[1;33m\u001b[0m\u001b[1;33m\u001b[0m\u001b[1;33m\u001b[0m\u001b[0m\n",
      "\u001b[1;32m<ipython-input-44-3f0bc43f1896>\u001b[0m in \u001b[0;36mwrite_into_csv\u001b[1;34m(tsv_data)\u001b[0m\n\u001b[0;32m     58\u001b[0m         \u001b[0mnewRow\u001b[0m \u001b[1;33m=\u001b[0m \u001b[0mpd\u001b[0m\u001b[1;33m.\u001b[0m\u001b[0mSeries\u001b[0m\u001b[1;33m(\u001b[0m\u001b[0mls\u001b[0m\u001b[1;33m,\u001b[0m \u001b[0mindex\u001b[0m\u001b[1;33m=\u001b[0m\u001b[0mddf\u001b[0m\u001b[1;33m.\u001b[0m\u001b[0mcolumns\u001b[0m\u001b[1;33m)\u001b[0m\u001b[1;33m\u001b[0m\u001b[1;33m\u001b[0m\u001b[0m\n\u001b[0;32m     59\u001b[0m \u001b[1;33m\u001b[0m\u001b[0m\n\u001b[1;32m---> 60\u001b[1;33m         \u001b[1;32mif\u001b[0m \u001b[0mcustomer_id\u001b[0m \u001b[1;32min\u001b[0m \u001b[0mddf\u001b[0m\u001b[1;33m.\u001b[0m\u001b[0mcustomer_id\u001b[0m\u001b[1;33m:\u001b[0m\u001b[1;33m\u001b[0m\u001b[1;33m\u001b[0m\u001b[0m\n\u001b[0m\u001b[0;32m     61\u001b[0m             \u001b[0mprint\u001b[0m\u001b[1;33m(\u001b[0m\u001b[1;34m'eddit row'\u001b[0m\u001b[1;33m)\u001b[0m\u001b[1;33m\u001b[0m\u001b[1;33m\u001b[0m\u001b[0m\n\u001b[0;32m     62\u001b[0m             \u001b[0mprint\u001b[0m\u001b[1;33m(\u001b[0m\u001b[0mtype\u001b[0m\u001b[1;33m(\u001b[0m\u001b[0mcustomer_id\u001b[0m\u001b[1;33m)\u001b[0m\u001b[1;33m,\u001b[0m \u001b[0mtype\u001b[0m\u001b[1;33m(\u001b[0m\u001b[0mnum_reviews\u001b[0m\u001b[1;33m)\u001b[0m\u001b[1;33m,\u001b[0m \u001b[0mtype\u001b[0m\u001b[1;33m(\u001b[0m\u001b[0mddf\u001b[0m\u001b[1;33m.\u001b[0m\u001b[0mcustomer_id\u001b[0m\u001b[1;33m)\u001b[0m\u001b[1;33m,\u001b[0m \u001b[0mtype\u001b[0m\u001b[1;33m(\u001b[0m\u001b[0mddf\u001b[0m\u001b[1;33m.\u001b[0m\u001b[0mnum_reviews\u001b[0m\u001b[1;33m)\u001b[0m\u001b[1;33m)\u001b[0m\u001b[1;33m\u001b[0m\u001b[1;33m\u001b[0m\u001b[0m\n",
      "\u001b[1;32m~\\anaconda3\\lib\\site-packages\\dask\\dataframe\\core.py\u001b[0m in \u001b[0;36m__iter__\u001b[1;34m(self)\u001b[0m\n\u001b[0;32m   3193\u001b[0m     \u001b[1;32mdef\u001b[0m \u001b[0m__iter__\u001b[0m\u001b[1;33m(\u001b[0m\u001b[0mself\u001b[0m\u001b[1;33m)\u001b[0m\u001b[1;33m:\u001b[0m\u001b[1;33m\u001b[0m\u001b[1;33m\u001b[0m\u001b[0m\n\u001b[0;32m   3194\u001b[0m         \u001b[1;32mfor\u001b[0m \u001b[0mi\u001b[0m \u001b[1;32min\u001b[0m \u001b[0mrange\u001b[0m\u001b[1;33m(\u001b[0m\u001b[0mself\u001b[0m\u001b[1;33m.\u001b[0m\u001b[0mnpartitions\u001b[0m\u001b[1;33m)\u001b[0m\u001b[1;33m:\u001b[0m\u001b[1;33m\u001b[0m\u001b[1;33m\u001b[0m\u001b[0m\n\u001b[1;32m-> 3195\u001b[1;33m             \u001b[0ms\u001b[0m \u001b[1;33m=\u001b[0m \u001b[0mself\u001b[0m\u001b[1;33m.\u001b[0m\u001b[0mget_partition\u001b[0m\u001b[1;33m(\u001b[0m\u001b[0mi\u001b[0m\u001b[1;33m)\u001b[0m\u001b[1;33m.\u001b[0m\u001b[0mcompute\u001b[0m\u001b[1;33m(\u001b[0m\u001b[1;33m)\u001b[0m\u001b[1;33m\u001b[0m\u001b[1;33m\u001b[0m\u001b[0m\n\u001b[0m\u001b[0;32m   3196\u001b[0m             \u001b[1;32mfor\u001b[0m \u001b[0mrow\u001b[0m \u001b[1;32min\u001b[0m \u001b[0ms\u001b[0m\u001b[1;33m:\u001b[0m\u001b[1;33m\u001b[0m\u001b[1;33m\u001b[0m\u001b[0m\n\u001b[0;32m   3197\u001b[0m                 \u001b[1;32myield\u001b[0m \u001b[0mrow\u001b[0m\u001b[1;33m\u001b[0m\u001b[1;33m\u001b[0m\u001b[0m\n",
      "\u001b[1;32m~\\anaconda3\\lib\\site-packages\\dask\\base.py\u001b[0m in \u001b[0;36mcompute\u001b[1;34m(self, **kwargs)\u001b[0m\n\u001b[0;32m    282\u001b[0m         \u001b[0mdask\u001b[0m\u001b[1;33m.\u001b[0m\u001b[0mbase\u001b[0m\u001b[1;33m.\u001b[0m\u001b[0mcompute\u001b[0m\u001b[1;33m\u001b[0m\u001b[1;33m\u001b[0m\u001b[0m\n\u001b[0;32m    283\u001b[0m         \"\"\"\n\u001b[1;32m--> 284\u001b[1;33m         \u001b[1;33m(\u001b[0m\u001b[0mresult\u001b[0m\u001b[1;33m,\u001b[0m\u001b[1;33m)\u001b[0m \u001b[1;33m=\u001b[0m \u001b[0mcompute\u001b[0m\u001b[1;33m(\u001b[0m\u001b[0mself\u001b[0m\u001b[1;33m,\u001b[0m \u001b[0mtraverse\u001b[0m\u001b[1;33m=\u001b[0m\u001b[1;32mFalse\u001b[0m\u001b[1;33m,\u001b[0m \u001b[1;33m**\u001b[0m\u001b[0mkwargs\u001b[0m\u001b[1;33m)\u001b[0m\u001b[1;33m\u001b[0m\u001b[1;33m\u001b[0m\u001b[0m\n\u001b[0m\u001b[0;32m    285\u001b[0m         \u001b[1;32mreturn\u001b[0m \u001b[0mresult\u001b[0m\u001b[1;33m\u001b[0m\u001b[1;33m\u001b[0m\u001b[0m\n\u001b[0;32m    286\u001b[0m \u001b[1;33m\u001b[0m\u001b[0m\n",
      "\u001b[1;32m~\\anaconda3\\lib\\site-packages\\dask\\base.py\u001b[0m in \u001b[0;36mcompute\u001b[1;34m(*args, **kwargs)\u001b[0m\n\u001b[0;32m    564\u001b[0m         \u001b[0mpostcomputes\u001b[0m\u001b[1;33m.\u001b[0m\u001b[0mappend\u001b[0m\u001b[1;33m(\u001b[0m\u001b[0mx\u001b[0m\u001b[1;33m.\u001b[0m\u001b[0m__dask_postcompute__\u001b[0m\u001b[1;33m(\u001b[0m\u001b[1;33m)\u001b[0m\u001b[1;33m)\u001b[0m\u001b[1;33m\u001b[0m\u001b[1;33m\u001b[0m\u001b[0m\n\u001b[0;32m    565\u001b[0m \u001b[1;33m\u001b[0m\u001b[0m\n\u001b[1;32m--> 566\u001b[1;33m     \u001b[0mresults\u001b[0m \u001b[1;33m=\u001b[0m \u001b[0mschedule\u001b[0m\u001b[1;33m(\u001b[0m\u001b[0mdsk\u001b[0m\u001b[1;33m,\u001b[0m \u001b[0mkeys\u001b[0m\u001b[1;33m,\u001b[0m \u001b[1;33m**\u001b[0m\u001b[0mkwargs\u001b[0m\u001b[1;33m)\u001b[0m\u001b[1;33m\u001b[0m\u001b[1;33m\u001b[0m\u001b[0m\n\u001b[0m\u001b[0;32m    567\u001b[0m     \u001b[1;32mreturn\u001b[0m \u001b[0mrepack\u001b[0m\u001b[1;33m(\u001b[0m\u001b[1;33m[\u001b[0m\u001b[0mf\u001b[0m\u001b[1;33m(\u001b[0m\u001b[0mr\u001b[0m\u001b[1;33m,\u001b[0m \u001b[1;33m*\u001b[0m\u001b[0ma\u001b[0m\u001b[1;33m)\u001b[0m \u001b[1;32mfor\u001b[0m \u001b[0mr\u001b[0m\u001b[1;33m,\u001b[0m \u001b[1;33m(\u001b[0m\u001b[0mf\u001b[0m\u001b[1;33m,\u001b[0m \u001b[0ma\u001b[0m\u001b[1;33m)\u001b[0m \u001b[1;32min\u001b[0m \u001b[0mzip\u001b[0m\u001b[1;33m(\u001b[0m\u001b[0mresults\u001b[0m\u001b[1;33m,\u001b[0m \u001b[0mpostcomputes\u001b[0m\u001b[1;33m)\u001b[0m\u001b[1;33m]\u001b[0m\u001b[1;33m)\u001b[0m\u001b[1;33m\u001b[0m\u001b[1;33m\u001b[0m\u001b[0m\n\u001b[0;32m    568\u001b[0m \u001b[1;33m\u001b[0m\u001b[0m\n",
      "\u001b[1;32m~\\anaconda3\\lib\\site-packages\\dask\\threaded.py\u001b[0m in \u001b[0;36mget\u001b[1;34m(dsk, result, cache, num_workers, pool, **kwargs)\u001b[0m\n\u001b[0;32m     77\u001b[0m             \u001b[0mpool\u001b[0m \u001b[1;33m=\u001b[0m \u001b[0mMultiprocessingPoolExecutor\u001b[0m\u001b[1;33m(\u001b[0m\u001b[0mpool\u001b[0m\u001b[1;33m)\u001b[0m\u001b[1;33m\u001b[0m\u001b[1;33m\u001b[0m\u001b[0m\n\u001b[0;32m     78\u001b[0m \u001b[1;33m\u001b[0m\u001b[0m\n\u001b[1;32m---> 79\u001b[1;33m     results = get_async(\n\u001b[0m\u001b[0;32m     80\u001b[0m         \u001b[0mpool\u001b[0m\u001b[1;33m.\u001b[0m\u001b[0msubmit\u001b[0m\u001b[1;33m,\u001b[0m\u001b[1;33m\u001b[0m\u001b[1;33m\u001b[0m\u001b[0m\n\u001b[0;32m     81\u001b[0m         \u001b[0mpool\u001b[0m\u001b[1;33m.\u001b[0m\u001b[0m_max_workers\u001b[0m\u001b[1;33m,\u001b[0m\u001b[1;33m\u001b[0m\u001b[1;33m\u001b[0m\u001b[0m\n",
      "\u001b[1;32m~\\anaconda3\\lib\\site-packages\\dask\\local.py\u001b[0m in \u001b[0;36mget_async\u001b[1;34m(submit, num_workers, dsk, result, cache, get_id, rerun_exceptions_locally, pack_exception, raise_exception, callbacks, dumps, loads, chunksize, **kwargs)\u001b[0m\n\u001b[0;32m    501\u001b[0m             \u001b[1;32mwhile\u001b[0m \u001b[0mstate\u001b[0m\u001b[1;33m[\u001b[0m\u001b[1;34m\"waiting\"\u001b[0m\u001b[1;33m]\u001b[0m \u001b[1;32mor\u001b[0m \u001b[0mstate\u001b[0m\u001b[1;33m[\u001b[0m\u001b[1;34m\"ready\"\u001b[0m\u001b[1;33m]\u001b[0m \u001b[1;32mor\u001b[0m \u001b[0mstate\u001b[0m\u001b[1;33m[\u001b[0m\u001b[1;34m\"running\"\u001b[0m\u001b[1;33m]\u001b[0m\u001b[1;33m:\u001b[0m\u001b[1;33m\u001b[0m\u001b[1;33m\u001b[0m\u001b[0m\n\u001b[0;32m    502\u001b[0m                 \u001b[0mfire_tasks\u001b[0m\u001b[1;33m(\u001b[0m\u001b[0mchunksize\u001b[0m\u001b[1;33m)\u001b[0m\u001b[1;33m\u001b[0m\u001b[1;33m\u001b[0m\u001b[0m\n\u001b[1;32m--> 503\u001b[1;33m                 \u001b[1;32mfor\u001b[0m \u001b[0mkey\u001b[0m\u001b[1;33m,\u001b[0m \u001b[0mres_info\u001b[0m\u001b[1;33m,\u001b[0m \u001b[0mfailed\u001b[0m \u001b[1;32min\u001b[0m \u001b[0mqueue_get\u001b[0m\u001b[1;33m(\u001b[0m\u001b[0mqueue\u001b[0m\u001b[1;33m)\u001b[0m\u001b[1;33m.\u001b[0m\u001b[0mresult\u001b[0m\u001b[1;33m(\u001b[0m\u001b[1;33m)\u001b[0m\u001b[1;33m:\u001b[0m\u001b[1;33m\u001b[0m\u001b[1;33m\u001b[0m\u001b[0m\n\u001b[0m\u001b[0;32m    504\u001b[0m                     \u001b[1;32mif\u001b[0m \u001b[0mfailed\u001b[0m\u001b[1;33m:\u001b[0m\u001b[1;33m\u001b[0m\u001b[1;33m\u001b[0m\u001b[0m\n\u001b[0;32m    505\u001b[0m                         \u001b[0mexc\u001b[0m\u001b[1;33m,\u001b[0m \u001b[0mtb\u001b[0m \u001b[1;33m=\u001b[0m \u001b[0mloads\u001b[0m\u001b[1;33m(\u001b[0m\u001b[0mres_info\u001b[0m\u001b[1;33m)\u001b[0m\u001b[1;33m\u001b[0m\u001b[1;33m\u001b[0m\u001b[0m\n",
      "\u001b[1;32m~\\anaconda3\\lib\\site-packages\\dask\\local.py\u001b[0m in \u001b[0;36mqueue_get\u001b[1;34m(q)\u001b[0m\n\u001b[0;32m    124\u001b[0m         \u001b[1;32mwhile\u001b[0m \u001b[1;32mTrue\u001b[0m\u001b[1;33m:\u001b[0m\u001b[1;33m\u001b[0m\u001b[1;33m\u001b[0m\u001b[0m\n\u001b[0;32m    125\u001b[0m             \u001b[1;32mtry\u001b[0m\u001b[1;33m:\u001b[0m\u001b[1;33m\u001b[0m\u001b[1;33m\u001b[0m\u001b[0m\n\u001b[1;32m--> 126\u001b[1;33m                 \u001b[1;32mreturn\u001b[0m \u001b[0mq\u001b[0m\u001b[1;33m.\u001b[0m\u001b[0mget\u001b[0m\u001b[1;33m(\u001b[0m\u001b[0mblock\u001b[0m\u001b[1;33m=\u001b[0m\u001b[1;32mTrue\u001b[0m\u001b[1;33m,\u001b[0m \u001b[0mtimeout\u001b[0m\u001b[1;33m=\u001b[0m\u001b[1;36m0.1\u001b[0m\u001b[1;33m)\u001b[0m\u001b[1;33m\u001b[0m\u001b[1;33m\u001b[0m\u001b[0m\n\u001b[0m\u001b[0;32m    127\u001b[0m             \u001b[1;32mexcept\u001b[0m \u001b[0mEmpty\u001b[0m\u001b[1;33m:\u001b[0m\u001b[1;33m\u001b[0m\u001b[1;33m\u001b[0m\u001b[0m\n\u001b[0;32m    128\u001b[0m                 \u001b[1;32mpass\u001b[0m\u001b[1;33m\u001b[0m\u001b[1;33m\u001b[0m\u001b[0m\n",
      "\u001b[1;32m~\\anaconda3\\lib\\queue.py\u001b[0m in \u001b[0;36mget\u001b[1;34m(self, block, timeout)\u001b[0m\n\u001b[0;32m    177\u001b[0m                     \u001b[1;32mif\u001b[0m \u001b[0mremaining\u001b[0m \u001b[1;33m<=\u001b[0m \u001b[1;36m0.0\u001b[0m\u001b[1;33m:\u001b[0m\u001b[1;33m\u001b[0m\u001b[1;33m\u001b[0m\u001b[0m\n\u001b[0;32m    178\u001b[0m                         \u001b[1;32mraise\u001b[0m \u001b[0mEmpty\u001b[0m\u001b[1;33m\u001b[0m\u001b[1;33m\u001b[0m\u001b[0m\n\u001b[1;32m--> 179\u001b[1;33m                     \u001b[0mself\u001b[0m\u001b[1;33m.\u001b[0m\u001b[0mnot_empty\u001b[0m\u001b[1;33m.\u001b[0m\u001b[0mwait\u001b[0m\u001b[1;33m(\u001b[0m\u001b[0mremaining\u001b[0m\u001b[1;33m)\u001b[0m\u001b[1;33m\u001b[0m\u001b[1;33m\u001b[0m\u001b[0m\n\u001b[0m\u001b[0;32m    180\u001b[0m             \u001b[0mitem\u001b[0m \u001b[1;33m=\u001b[0m \u001b[0mself\u001b[0m\u001b[1;33m.\u001b[0m\u001b[0m_get\u001b[0m\u001b[1;33m(\u001b[0m\u001b[1;33m)\u001b[0m\u001b[1;33m\u001b[0m\u001b[1;33m\u001b[0m\u001b[0m\n\u001b[0;32m    181\u001b[0m             \u001b[0mself\u001b[0m\u001b[1;33m.\u001b[0m\u001b[0mnot_full\u001b[0m\u001b[1;33m.\u001b[0m\u001b[0mnotify\u001b[0m\u001b[1;33m(\u001b[0m\u001b[1;33m)\u001b[0m\u001b[1;33m\u001b[0m\u001b[1;33m\u001b[0m\u001b[0m\n",
      "\u001b[1;32m~\\anaconda3\\lib\\threading.py\u001b[0m in \u001b[0;36mwait\u001b[1;34m(self, timeout)\u001b[0m\n\u001b[0;32m    304\u001b[0m             \u001b[1;32melse\u001b[0m\u001b[1;33m:\u001b[0m\u001b[1;33m\u001b[0m\u001b[1;33m\u001b[0m\u001b[0m\n\u001b[0;32m    305\u001b[0m                 \u001b[1;32mif\u001b[0m \u001b[0mtimeout\u001b[0m \u001b[1;33m>\u001b[0m \u001b[1;36m0\u001b[0m\u001b[1;33m:\u001b[0m\u001b[1;33m\u001b[0m\u001b[1;33m\u001b[0m\u001b[0m\n\u001b[1;32m--> 306\u001b[1;33m                     \u001b[0mgotit\u001b[0m \u001b[1;33m=\u001b[0m \u001b[0mwaiter\u001b[0m\u001b[1;33m.\u001b[0m\u001b[0macquire\u001b[0m\u001b[1;33m(\u001b[0m\u001b[1;32mTrue\u001b[0m\u001b[1;33m,\u001b[0m \u001b[0mtimeout\u001b[0m\u001b[1;33m)\u001b[0m\u001b[1;33m\u001b[0m\u001b[1;33m\u001b[0m\u001b[0m\n\u001b[0m\u001b[0;32m    307\u001b[0m                 \u001b[1;32melse\u001b[0m\u001b[1;33m:\u001b[0m\u001b[1;33m\u001b[0m\u001b[1;33m\u001b[0m\u001b[0m\n\u001b[0;32m    308\u001b[0m                     \u001b[0mgotit\u001b[0m \u001b[1;33m=\u001b[0m \u001b[0mwaiter\u001b[0m\u001b[1;33m.\u001b[0m\u001b[0macquire\u001b[0m\u001b[1;33m(\u001b[0m\u001b[1;32mFalse\u001b[0m\u001b[1;33m)\u001b[0m\u001b[1;33m\u001b[0m\u001b[1;33m\u001b[0m\u001b[0m\n",
      "\u001b[1;31mKeyboardInterrupt\u001b[0m: "
     ]
    }
   ],
   "source": [
    "fields = ['customer_id', 'review_id', 'star_rating', 'helpful_votes', 'total_votes', 'vine', 'verified_purchase']\n",
    "batch_num = 0\n",
    "batch_size = 128\n",
    "\n",
    "#for j in tqdm(range(len(pd.read_csv(root+\"Apparel_v1_00.tsv\", sep='\\t', error_bad_lines=False, usecols=fields))//batch_size)):\n",
    "    #Apparel_data = pd.read_csv(root+\"Apparel_v1_00.tsv\", sep='\\t', error_bad_lines=False, usecols=fields, skiprows=range(1, batch_num*batch_size), nrows=batch_size)\n",
    "\n",
    "Apparel_data = pd.read_csv(root+\"Digital_Software_v1_00.tsv\", sep='\\t', error_bad_lines=False, usecols=fields)\n",
    "write_into_csv(Apparel_data)    \n",
    "    #write_into_csv(Apparel_data)\n",
    "    #batch_num = batch_num + 1"
   ]
  },
  {
   "cell_type": "markdown",
   "id": "ef9373df",
   "metadata": {},
   "source": [
    "### Read Gift_Card_v1_00.tsv"
   ]
  },
  {
   "cell_type": "code",
   "execution_count": 63,
   "id": "5db87def",
   "metadata": {
    "scrolled": false
   },
   "outputs": [
    {
     "name": "stderr",
     "output_type": "stream",
     "text": [
      "\r",
      "  0%|          | 0/9269 [00:00<?, ?it/s]"
     ]
    },
    {
     "name": "stdout",
     "output_type": "stream",
     "text": [
      "Dask DataFrame Structure:\n",
      "              customer_id review_id star_rating helpful_votes total_votes    vine verified_purchase\n",
      "npartitions=1                                                                                      \n",
      "0                   int64    object       int64         int64       int64  object            object\n",
      "15                    ...       ...         ...           ...         ...     ...               ...\n",
      "Dask Name: from_pandas, 1 tasks\n",
      "Dask DataFrame Structure:\n",
      "              customer_id num_reviews num_five_star_ratings num_four_star_ratings num_three_star_ratings num_two_star_ratings num_one_star_ratings total_helpful_votes    vine num_verified_purchases\n",
      "npartitions=1                                                                                                                                                                                        \n",
      "                    int64       int64                 int64                 int64                  int64                int64                int64               int64  object                  int64\n",
      "                      ...         ...                   ...                   ...                    ...                  ...                  ...                 ...     ...                    ...\n",
      "Dask Name: read-csv, 1 tasks\n",
      "appening row\n",
      "appening row\n",
      "appening row\n",
      "appening row\n",
      "appening row\n",
      "appening row\n",
      "appening row\n",
      "appening row\n",
      "appening row\n",
      "appening row\n",
      "appening row\n",
      "appening row\n",
      "appening row\n",
      "appening row\n",
      "appening row\n",
      "appening row\n"
     ]
    },
    {
     "name": "stderr",
     "output_type": "stream",
     "text": [
      "\r",
      "  0%|          | 1/9269 [00:02<6:15:51,  2.43s/it]"
     ]
    },
    {
     "name": "stdout",
     "output_type": "stream",
     "text": [
      "Dask DataFrame Structure:\n",
      "              customer_id review_id star_rating helpful_votes total_votes    vine verified_purchase\n",
      "npartitions=1                                                                                      \n",
      "0                   int64    object       int64         int64       int64  object            object\n",
      "15                    ...       ...         ...           ...         ...     ...               ...\n",
      "Dask Name: from_pandas, 1 tasks\n",
      "Dask DataFrame Structure:\n",
      "              customer_id num_reviews num_five_star_ratings num_four_star_ratings num_three_star_ratings num_two_star_ratings num_one_star_ratings total_helpful_votes    vine num_verified_purchases\n",
      "npartitions=1                                                                                                                                                                                        \n",
      "                    int64       int64                 int64                 int64                  int64                int64                int64               int64  object                  int64\n",
      "                      ...         ...                   ...                   ...                    ...                  ...                  ...                 ...     ...                    ...\n",
      "Dask Name: read-csv, 1 tasks\n",
      "appening row\n",
      "appening row\n",
      "appening row\n",
      "appening row\n",
      "appening row\n",
      "appening row\n",
      "appening row\n",
      "appening row\n",
      "appening row\n",
      "appening row\n",
      "appening row\n",
      "appening row\n",
      "appening row\n",
      "appening row\n",
      "appening row\n",
      "appening row\n"
     ]
    },
    {
     "name": "stderr",
     "output_type": "stream",
     "text": [
      "\r",
      "  0%|          | 2/9269 [00:04<6:14:04,  2.42s/it]"
     ]
    },
    {
     "name": "stdout",
     "output_type": "stream",
     "text": [
      "Dask DataFrame Structure:\n",
      "              customer_id review_id star_rating helpful_votes total_votes    vine verified_purchase\n",
      "npartitions=1                                                                                      \n",
      "0                   int64    object       int64         int64       int64  object            object\n",
      "15                    ...       ...         ...           ...         ...     ...               ...\n",
      "Dask Name: from_pandas, 1 tasks\n",
      "Dask DataFrame Structure:\n",
      "              customer_id num_reviews num_five_star_ratings num_four_star_ratings num_three_star_ratings num_two_star_ratings num_one_star_ratings total_helpful_votes    vine num_verified_purchases\n",
      "npartitions=1                                                                                                                                                                                        \n",
      "                    int64       int64                 int64                 int64                  int64                int64                int64               int64  object                  int64\n",
      "                      ...         ...                   ...                   ...                    ...                  ...                  ...                 ...     ...                    ...\n",
      "Dask Name: read-csv, 1 tasks\n",
      "appening row\n",
      "appening row\n",
      "appening row\n",
      "appening row\n",
      "eddit row\n",
      "<class 'int'> <class 'int'> <class 'dask.dataframe.core.Series'> <class 'dask.dataframe.core.Series'> <class 'dask.dataframe.core.Series'>\n"
     ]
    },
    {
     "name": "stderr",
     "output_type": "stream",
     "text": [
      "\r",
      "  0%|          | 2/9269 [00:05<7:09:04,  2.78s/it]"
     ]
    },
    {
     "name": "stdout",
     "output_type": "stream",
     "text": [
      "  customer_id num_reviews num_five_star_ratings num_four_star_ratings  \\\n",
      "0    17747349           1                     0                     1   \n",
      "1    10956619           1                     0                     0   \n",
      "2    13132245           1                     0                     0   \n",
      "3    35717248           1                     1                     0   \n",
      "4    17710652           1                     0                     1   \n",
      "\n",
      "  num_three_star_ratings num_two_star_ratings num_one_star_ratings  \\\n",
      "0                      0                    0                    0   \n",
      "1                      1                    0                    0   \n",
      "2                      0                    0                    1   \n",
      "3                      0                    0                    0   \n",
      "4                      0                    0                    0   \n",
      "\n",
      "  total_helpful_votes vine num_verified_purchases  \n",
      "0                   0    N                      1  \n",
      "1                   0    N                      1  \n",
      "2                   1    N                      1  \n",
      "3                   0    N                      1  \n",
      "4                   1    N                      1  \n"
     ]
    },
    {
     "name": "stderr",
     "output_type": "stream",
     "text": [
      "\n"
     ]
    },
    {
     "ename": "ValueError",
     "evalue": "Metadata inference failed in `sub`.\n\nOriginal error is below:\n------------------------\nTypeError(\"unsupported operand type(s) for -: 'str' and 'int'\")\n\nTraceback:\n---------\n  File \"C:\\Users\\brand\\anaconda3\\lib\\site-packages\\dask\\dataframe\\utils.py\", line 175, in raise_on_meta_error\n    yield\n  File \"C:\\Users\\brand\\anaconda3\\lib\\site-packages\\dask\\dataframe\\core.py\", line 5169, in elemwise\n    meta = partial_by_order(*parts, function=op, other=other)\n  File \"C:\\Users\\brand\\anaconda3\\lib\\site-packages\\dask\\utils.py\", line 1107, in partial_by_order\n    return function(*args2, **kwargs)\n  File \"C:\\Users\\brand\\anaconda3\\lib\\site-packages\\pandas\\core\\ops\\common.py\", line 65, in new_method\n    return method(self, other)\n  File \"C:\\Users\\brand\\anaconda3\\lib\\site-packages\\pandas\\core\\arraylike.py\", line 97, in __sub__\n    return self._arith_method(other, operator.sub)\n  File \"C:\\Users\\brand\\anaconda3\\lib\\site-packages\\pandas\\core\\series.py\", line 4998, in _arith_method\n    result = ops.arithmetic_op(lvalues, rvalues, op)\n  File \"C:\\Users\\brand\\anaconda3\\lib\\site-packages\\pandas\\core\\ops\\array_ops.py\", line 189, in arithmetic_op\n    res_values = _na_arithmetic_op(lvalues, rvalues, op)\n  File \"C:\\Users\\brand\\anaconda3\\lib\\site-packages\\pandas\\core\\ops\\array_ops.py\", line 149, in _na_arithmetic_op\n    result = _masked_arith_op(left, right, op)\n  File \"C:\\Users\\brand\\anaconda3\\lib\\site-packages\\pandas\\core\\ops\\array_ops.py\", line 111, in _masked_arith_op\n    result[mask] = op(xrav[mask], y)\n",
     "output_type": "error",
     "traceback": [
      "\u001b[1;31m---------------------------------------------------------------------------\u001b[0m",
      "\u001b[1;31mTypeError\u001b[0m                                 Traceback (most recent call last)",
      "\u001b[1;32m~\\anaconda3\\lib\\site-packages\\pandas\\core\\ops\\array_ops.py\u001b[0m in \u001b[0;36m_na_arithmetic_op\u001b[1;34m(left, right, op, is_cmp)\u001b[0m\n\u001b[0;32m    141\u001b[0m     \u001b[1;32mtry\u001b[0m\u001b[1;33m:\u001b[0m\u001b[1;33m\u001b[0m\u001b[1;33m\u001b[0m\u001b[0m\n\u001b[1;32m--> 142\u001b[1;33m         \u001b[0mresult\u001b[0m \u001b[1;33m=\u001b[0m \u001b[0mexpressions\u001b[0m\u001b[1;33m.\u001b[0m\u001b[0mevaluate\u001b[0m\u001b[1;33m(\u001b[0m\u001b[0mop\u001b[0m\u001b[1;33m,\u001b[0m \u001b[0mleft\u001b[0m\u001b[1;33m,\u001b[0m \u001b[0mright\u001b[0m\u001b[1;33m)\u001b[0m\u001b[1;33m\u001b[0m\u001b[1;33m\u001b[0m\u001b[0m\n\u001b[0m\u001b[0;32m    143\u001b[0m     \u001b[1;32mexcept\u001b[0m \u001b[0mTypeError\u001b[0m\u001b[1;33m:\u001b[0m\u001b[1;33m\u001b[0m\u001b[1;33m\u001b[0m\u001b[0m\n",
      "\u001b[1;32m~\\anaconda3\\lib\\site-packages\\pandas\\core\\computation\\expressions.py\u001b[0m in \u001b[0;36mevaluate\u001b[1;34m(op, a, b, use_numexpr)\u001b[0m\n\u001b[0;32m    234\u001b[0m             \u001b[1;31m# error: \"None\" not callable\u001b[0m\u001b[1;33m\u001b[0m\u001b[1;33m\u001b[0m\u001b[1;33m\u001b[0m\u001b[0m\n\u001b[1;32m--> 235\u001b[1;33m             \u001b[1;32mreturn\u001b[0m \u001b[0m_evaluate\u001b[0m\u001b[1;33m(\u001b[0m\u001b[0mop\u001b[0m\u001b[1;33m,\u001b[0m \u001b[0mop_str\u001b[0m\u001b[1;33m,\u001b[0m \u001b[0ma\u001b[0m\u001b[1;33m,\u001b[0m \u001b[0mb\u001b[0m\u001b[1;33m)\u001b[0m  \u001b[1;31m# type: ignore[misc]\u001b[0m\u001b[1;33m\u001b[0m\u001b[1;33m\u001b[0m\u001b[0m\n\u001b[0m\u001b[0;32m    236\u001b[0m     \u001b[1;32mreturn\u001b[0m \u001b[0m_evaluate_standard\u001b[0m\u001b[1;33m(\u001b[0m\u001b[0mop\u001b[0m\u001b[1;33m,\u001b[0m \u001b[0mop_str\u001b[0m\u001b[1;33m,\u001b[0m \u001b[0ma\u001b[0m\u001b[1;33m,\u001b[0m \u001b[0mb\u001b[0m\u001b[1;33m)\u001b[0m\u001b[1;33m\u001b[0m\u001b[1;33m\u001b[0m\u001b[0m\n",
      "\u001b[1;32m~\\anaconda3\\lib\\site-packages\\pandas\\core\\computation\\expressions.py\u001b[0m in \u001b[0;36m_evaluate_standard\u001b[1;34m(op, op_str, a, b)\u001b[0m\n\u001b[0;32m     68\u001b[0m     \u001b[1;32mwith\u001b[0m \u001b[0mnp\u001b[0m\u001b[1;33m.\u001b[0m\u001b[0merrstate\u001b[0m\u001b[1;33m(\u001b[0m\u001b[0mall\u001b[0m\u001b[1;33m=\u001b[0m\u001b[1;34m\"ignore\"\u001b[0m\u001b[1;33m)\u001b[0m\u001b[1;33m:\u001b[0m\u001b[1;33m\u001b[0m\u001b[1;33m\u001b[0m\u001b[0m\n\u001b[1;32m---> 69\u001b[1;33m         \u001b[1;32mreturn\u001b[0m \u001b[0mop\u001b[0m\u001b[1;33m(\u001b[0m\u001b[0ma\u001b[0m\u001b[1;33m,\u001b[0m \u001b[0mb\u001b[0m\u001b[1;33m)\u001b[0m\u001b[1;33m\u001b[0m\u001b[1;33m\u001b[0m\u001b[0m\n\u001b[0m\u001b[0;32m     70\u001b[0m \u001b[1;33m\u001b[0m\u001b[0m\n",
      "\u001b[1;31mTypeError\u001b[0m: unsupported operand type(s) for -: 'str' and 'int'",
      "\nDuring handling of the above exception, another exception occurred:\n",
      "\u001b[1;31mTypeError\u001b[0m                                 Traceback (most recent call last)",
      "\u001b[1;32m~\\anaconda3\\lib\\site-packages\\dask\\dataframe\\utils.py\u001b[0m in \u001b[0;36mraise_on_meta_error\u001b[1;34m(funcname, udf)\u001b[0m\n\u001b[0;32m    174\u001b[0m     \u001b[1;32mtry\u001b[0m\u001b[1;33m:\u001b[0m\u001b[1;33m\u001b[0m\u001b[1;33m\u001b[0m\u001b[0m\n\u001b[1;32m--> 175\u001b[1;33m         \u001b[1;32myield\u001b[0m\u001b[1;33m\u001b[0m\u001b[1;33m\u001b[0m\u001b[0m\n\u001b[0m\u001b[0;32m    176\u001b[0m     \u001b[1;32mexcept\u001b[0m \u001b[0mException\u001b[0m \u001b[1;32mas\u001b[0m \u001b[0me\u001b[0m\u001b[1;33m:\u001b[0m\u001b[1;33m\u001b[0m\u001b[1;33m\u001b[0m\u001b[0m\n",
      "\u001b[1;32m~\\anaconda3\\lib\\site-packages\\dask\\dataframe\\core.py\u001b[0m in \u001b[0;36melemwise\u001b[1;34m(op, *args, **kwargs)\u001b[0m\n\u001b[0;32m   5168\u001b[0m         \u001b[1;32mwith\u001b[0m \u001b[0mraise_on_meta_error\u001b[0m\u001b[1;33m(\u001b[0m\u001b[0mfuncname\u001b[0m\u001b[1;33m(\u001b[0m\u001b[0mop\u001b[0m\u001b[1;33m)\u001b[0m\u001b[1;33m)\u001b[0m\u001b[1;33m:\u001b[0m\u001b[1;33m\u001b[0m\u001b[1;33m\u001b[0m\u001b[0m\n\u001b[1;32m-> 5169\u001b[1;33m             \u001b[0mmeta\u001b[0m \u001b[1;33m=\u001b[0m \u001b[0mpartial_by_order\u001b[0m\u001b[1;33m(\u001b[0m\u001b[1;33m*\u001b[0m\u001b[0mparts\u001b[0m\u001b[1;33m,\u001b[0m \u001b[0mfunction\u001b[0m\u001b[1;33m=\u001b[0m\u001b[0mop\u001b[0m\u001b[1;33m,\u001b[0m \u001b[0mother\u001b[0m\u001b[1;33m=\u001b[0m\u001b[0mother\u001b[0m\u001b[1;33m)\u001b[0m\u001b[1;33m\u001b[0m\u001b[1;33m\u001b[0m\u001b[0m\n\u001b[0m\u001b[0;32m   5170\u001b[0m \u001b[1;33m\u001b[0m\u001b[0m\n",
      "\u001b[1;32m~\\anaconda3\\lib\\site-packages\\dask\\utils.py\u001b[0m in \u001b[0;36mpartial_by_order\u001b[1;34m(*args, **kwargs)\u001b[0m\n\u001b[0;32m   1106\u001b[0m         \u001b[0margs2\u001b[0m\u001b[1;33m.\u001b[0m\u001b[0minsert\u001b[0m\u001b[1;33m(\u001b[0m\u001b[0mi\u001b[0m\u001b[1;33m,\u001b[0m \u001b[0marg\u001b[0m\u001b[1;33m)\u001b[0m\u001b[1;33m\u001b[0m\u001b[1;33m\u001b[0m\u001b[0m\n\u001b[1;32m-> 1107\u001b[1;33m     \u001b[1;32mreturn\u001b[0m \u001b[0mfunction\u001b[0m\u001b[1;33m(\u001b[0m\u001b[1;33m*\u001b[0m\u001b[0margs2\u001b[0m\u001b[1;33m,\u001b[0m \u001b[1;33m**\u001b[0m\u001b[0mkwargs\u001b[0m\u001b[1;33m)\u001b[0m\u001b[1;33m\u001b[0m\u001b[1;33m\u001b[0m\u001b[0m\n\u001b[0m\u001b[0;32m   1108\u001b[0m \u001b[1;33m\u001b[0m\u001b[0m\n",
      "\u001b[1;32m~\\anaconda3\\lib\\site-packages\\pandas\\core\\ops\\common.py\u001b[0m in \u001b[0;36mnew_method\u001b[1;34m(self, other)\u001b[0m\n\u001b[0;32m     64\u001b[0m \u001b[1;33m\u001b[0m\u001b[0m\n\u001b[1;32m---> 65\u001b[1;33m         \u001b[1;32mreturn\u001b[0m \u001b[0mmethod\u001b[0m\u001b[1;33m(\u001b[0m\u001b[0mself\u001b[0m\u001b[1;33m,\u001b[0m \u001b[0mother\u001b[0m\u001b[1;33m)\u001b[0m\u001b[1;33m\u001b[0m\u001b[1;33m\u001b[0m\u001b[0m\n\u001b[0m\u001b[0;32m     66\u001b[0m \u001b[1;33m\u001b[0m\u001b[0m\n",
      "\u001b[1;32m~\\anaconda3\\lib\\site-packages\\pandas\\core\\arraylike.py\u001b[0m in \u001b[0;36m__sub__\u001b[1;34m(self, other)\u001b[0m\n\u001b[0;32m     96\u001b[0m     \u001b[1;32mdef\u001b[0m \u001b[0m__sub__\u001b[0m\u001b[1;33m(\u001b[0m\u001b[0mself\u001b[0m\u001b[1;33m,\u001b[0m \u001b[0mother\u001b[0m\u001b[1;33m)\u001b[0m\u001b[1;33m:\u001b[0m\u001b[1;33m\u001b[0m\u001b[1;33m\u001b[0m\u001b[0m\n\u001b[1;32m---> 97\u001b[1;33m         \u001b[1;32mreturn\u001b[0m \u001b[0mself\u001b[0m\u001b[1;33m.\u001b[0m\u001b[0m_arith_method\u001b[0m\u001b[1;33m(\u001b[0m\u001b[0mother\u001b[0m\u001b[1;33m,\u001b[0m \u001b[0moperator\u001b[0m\u001b[1;33m.\u001b[0m\u001b[0msub\u001b[0m\u001b[1;33m)\u001b[0m\u001b[1;33m\u001b[0m\u001b[1;33m\u001b[0m\u001b[0m\n\u001b[0m\u001b[0;32m     98\u001b[0m \u001b[1;33m\u001b[0m\u001b[0m\n",
      "\u001b[1;32m~\\anaconda3\\lib\\site-packages\\pandas\\core\\series.py\u001b[0m in \u001b[0;36m_arith_method\u001b[1;34m(self, other, op)\u001b[0m\n\u001b[0;32m   4997\u001b[0m         \u001b[0mrvalues\u001b[0m \u001b[1;33m=\u001b[0m \u001b[0mextract_array\u001b[0m\u001b[1;33m(\u001b[0m\u001b[0mother\u001b[0m\u001b[1;33m,\u001b[0m \u001b[0mextract_numpy\u001b[0m\u001b[1;33m=\u001b[0m\u001b[1;32mTrue\u001b[0m\u001b[1;33m)\u001b[0m\u001b[1;33m\u001b[0m\u001b[1;33m\u001b[0m\u001b[0m\n\u001b[1;32m-> 4998\u001b[1;33m         \u001b[0mresult\u001b[0m \u001b[1;33m=\u001b[0m \u001b[0mops\u001b[0m\u001b[1;33m.\u001b[0m\u001b[0marithmetic_op\u001b[0m\u001b[1;33m(\u001b[0m\u001b[0mlvalues\u001b[0m\u001b[1;33m,\u001b[0m \u001b[0mrvalues\u001b[0m\u001b[1;33m,\u001b[0m \u001b[0mop\u001b[0m\u001b[1;33m)\u001b[0m\u001b[1;33m\u001b[0m\u001b[1;33m\u001b[0m\u001b[0m\n\u001b[0m\u001b[0;32m   4999\u001b[0m \u001b[1;33m\u001b[0m\u001b[0m\n",
      "\u001b[1;32m~\\anaconda3\\lib\\site-packages\\pandas\\core\\ops\\array_ops.py\u001b[0m in \u001b[0;36marithmetic_op\u001b[1;34m(left, right, op)\u001b[0m\n\u001b[0;32m    188\u001b[0m         \u001b[1;32mwith\u001b[0m \u001b[0mnp\u001b[0m\u001b[1;33m.\u001b[0m\u001b[0merrstate\u001b[0m\u001b[1;33m(\u001b[0m\u001b[0mall\u001b[0m\u001b[1;33m=\u001b[0m\u001b[1;34m\"ignore\"\u001b[0m\u001b[1;33m)\u001b[0m\u001b[1;33m:\u001b[0m\u001b[1;33m\u001b[0m\u001b[1;33m\u001b[0m\u001b[0m\n\u001b[1;32m--> 189\u001b[1;33m             \u001b[0mres_values\u001b[0m \u001b[1;33m=\u001b[0m \u001b[0m_na_arithmetic_op\u001b[0m\u001b[1;33m(\u001b[0m\u001b[0mlvalues\u001b[0m\u001b[1;33m,\u001b[0m \u001b[0mrvalues\u001b[0m\u001b[1;33m,\u001b[0m \u001b[0mop\u001b[0m\u001b[1;33m)\u001b[0m\u001b[1;33m\u001b[0m\u001b[1;33m\u001b[0m\u001b[0m\n\u001b[0m\u001b[0;32m    190\u001b[0m \u001b[1;33m\u001b[0m\u001b[0m\n",
      "\u001b[1;32m~\\anaconda3\\lib\\site-packages\\pandas\\core\\ops\\array_ops.py\u001b[0m in \u001b[0;36m_na_arithmetic_op\u001b[1;34m(left, right, op, is_cmp)\u001b[0m\n\u001b[0;32m    148\u001b[0m             \u001b[1;32mraise\u001b[0m\u001b[1;33m\u001b[0m\u001b[1;33m\u001b[0m\u001b[0m\n\u001b[1;32m--> 149\u001b[1;33m         \u001b[0mresult\u001b[0m \u001b[1;33m=\u001b[0m \u001b[0m_masked_arith_op\u001b[0m\u001b[1;33m(\u001b[0m\u001b[0mleft\u001b[0m\u001b[1;33m,\u001b[0m \u001b[0mright\u001b[0m\u001b[1;33m,\u001b[0m \u001b[0mop\u001b[0m\u001b[1;33m)\u001b[0m\u001b[1;33m\u001b[0m\u001b[1;33m\u001b[0m\u001b[0m\n\u001b[0m\u001b[0;32m    150\u001b[0m \u001b[1;33m\u001b[0m\u001b[0m\n",
      "\u001b[1;32m~\\anaconda3\\lib\\site-packages\\pandas\\core\\ops\\array_ops.py\u001b[0m in \u001b[0;36m_masked_arith_op\u001b[1;34m(x, y, op)\u001b[0m\n\u001b[0;32m    110\u001b[0m             \u001b[1;32mwith\u001b[0m \u001b[0mnp\u001b[0m\u001b[1;33m.\u001b[0m\u001b[0merrstate\u001b[0m\u001b[1;33m(\u001b[0m\u001b[0mall\u001b[0m\u001b[1;33m=\u001b[0m\u001b[1;34m\"ignore\"\u001b[0m\u001b[1;33m)\u001b[0m\u001b[1;33m:\u001b[0m\u001b[1;33m\u001b[0m\u001b[1;33m\u001b[0m\u001b[0m\n\u001b[1;32m--> 111\u001b[1;33m                 \u001b[0mresult\u001b[0m\u001b[1;33m[\u001b[0m\u001b[0mmask\u001b[0m\u001b[1;33m]\u001b[0m \u001b[1;33m=\u001b[0m \u001b[0mop\u001b[0m\u001b[1;33m(\u001b[0m\u001b[0mxrav\u001b[0m\u001b[1;33m[\u001b[0m\u001b[0mmask\u001b[0m\u001b[1;33m]\u001b[0m\u001b[1;33m,\u001b[0m \u001b[0my\u001b[0m\u001b[1;33m)\u001b[0m\u001b[1;33m\u001b[0m\u001b[1;33m\u001b[0m\u001b[0m\n\u001b[0m\u001b[0;32m    112\u001b[0m \u001b[1;33m\u001b[0m\u001b[0m\n",
      "\u001b[1;31mTypeError\u001b[0m: unsupported operand type(s) for -: 'str' and 'int'",
      "\nThe above exception was the direct cause of the following exception:\n",
      "\u001b[1;31mValueError\u001b[0m                                Traceback (most recent call last)",
      "\u001b[1;32m<ipython-input-63-df050bc529ba>\u001b[0m in \u001b[0;36m<module>\u001b[1;34m\u001b[0m\n\u001b[0;32m      7\u001b[0m \u001b[1;33m\u001b[0m\u001b[0m\n\u001b[0;32m      8\u001b[0m \u001b[1;31m#Apparel_data = pd.read_csv(root+\"Digital_Software_v1_00.tsv\", sep='\\t', error_bad_lines=False, usecols=fields)\u001b[0m\u001b[1;33m\u001b[0m\u001b[1;33m\u001b[0m\u001b[1;33m\u001b[0m\u001b[0m\n\u001b[1;32m----> 9\u001b[1;33m     \u001b[0mwrite_into_csv\u001b[0m\u001b[1;33m(\u001b[0m\u001b[0mGift_Card_data\u001b[0m\u001b[1;33m)\u001b[0m\u001b[1;33m\u001b[0m\u001b[1;33m\u001b[0m\u001b[0m\n\u001b[0m\u001b[0;32m     10\u001b[0m     \u001b[0mbatch_num\u001b[0m \u001b[1;33m=\u001b[0m \u001b[0mbatch_num\u001b[0m \u001b[1;33m+\u001b[0m \u001b[1;36m1\u001b[0m\u001b[1;33m\u001b[0m\u001b[1;33m\u001b[0m\u001b[0m\n",
      "\u001b[1;32m<ipython-input-61-d14fda0249e9>\u001b[0m in \u001b[0;36mwrite_into_csv\u001b[1;34m(tsv_data)\u001b[0m\n\u001b[0;32m     63\u001b[0m             \u001b[1;31m#print(ddf.num_reviews.where(ddf.customer_id == int(customer_id), ddf.num_reviews))\u001b[0m\u001b[1;33m\u001b[0m\u001b[1;33m\u001b[0m\u001b[1;33m\u001b[0m\u001b[0m\n\u001b[0;32m     64\u001b[0m             \u001b[0mprint\u001b[0m\u001b[1;33m(\u001b[0m\u001b[0mddf\u001b[0m\u001b[1;33m.\u001b[0m\u001b[0mhead\u001b[0m\u001b[1;33m(\u001b[0m\u001b[1;33m)\u001b[0m\u001b[1;33m)\u001b[0m\u001b[1;33m\u001b[0m\u001b[1;33m\u001b[0m\u001b[0m\n\u001b[1;32m---> 65\u001b[1;33m             \u001b[0mddf\u001b[0m\u001b[1;33m[\u001b[0m\u001b[1;34m'num_reviews'\u001b[0m\u001b[1;33m]\u001b[0m \u001b[1;33m=\u001b[0m \u001b[0mddf\u001b[0m\u001b[1;33m.\u001b[0m\u001b[0mnum_reviews\u001b[0m\u001b[1;33m.\u001b[0m\u001b[0mwhere\u001b[0m\u001b[1;33m(\u001b[0m\u001b[0mddf\u001b[0m\u001b[1;33m.\u001b[0m\u001b[0mcustomer_id\u001b[0m \u001b[1;33m==\u001b[0m \u001b[0mint\u001b[0m\u001b[1;33m(\u001b[0m\u001b[0mcustomer_id\u001b[0m\u001b[1;33m)\u001b[0m\u001b[1;33m,\u001b[0m \u001b[0mddf\u001b[0m\u001b[1;33m.\u001b[0m\u001b[0mnum_reviews\u001b[0m\u001b[1;33m-\u001b[0m\u001b[0mint\u001b[0m\u001b[1;33m(\u001b[0m\u001b[0mnum_reviews\u001b[0m\u001b[1;33m)\u001b[0m\u001b[1;33m)\u001b[0m \u001b[1;33m+\u001b[0m \u001b[0mint\u001b[0m\u001b[1;33m(\u001b[0m\u001b[0mnum_reviews\u001b[0m\u001b[1;33m)\u001b[0m\u001b[1;33m\u001b[0m\u001b[1;33m\u001b[0m\u001b[0m\n\u001b[0m\u001b[0;32m     66\u001b[0m             \u001b[0mddf\u001b[0m\u001b[1;33m[\u001b[0m\u001b[1;34m'num_five_star_ratings'\u001b[0m\u001b[1;33m]\u001b[0m \u001b[1;33m=\u001b[0m \u001b[0mddf\u001b[0m\u001b[1;33m.\u001b[0m\u001b[0mnum_five_star_ratings\u001b[0m\u001b[1;33m.\u001b[0m\u001b[0mwhere\u001b[0m\u001b[1;33m(\u001b[0m\u001b[0mddf\u001b[0m\u001b[1;33m.\u001b[0m\u001b[0mcustomer_id\u001b[0m \u001b[1;33m==\u001b[0m \u001b[0mcustomer_id\u001b[0m\u001b[1;33m,\u001b[0m \u001b[0mddf\u001b[0m\u001b[1;33m.\u001b[0m\u001b[0mnum_five_star_ratings\u001b[0m\u001b[1;33m-\u001b[0m\u001b[0mint\u001b[0m\u001b[1;33m(\u001b[0m\u001b[0mnum_five_star_ratings\u001b[0m\u001b[1;33m)\u001b[0m\u001b[1;33m)\u001b[0m \u001b[1;33m+\u001b[0m \u001b[0mint\u001b[0m\u001b[1;33m(\u001b[0m\u001b[0mnum_five_star_ratings\u001b[0m\u001b[1;33m)\u001b[0m\u001b[1;33m\u001b[0m\u001b[1;33m\u001b[0m\u001b[0m\n\u001b[0;32m     67\u001b[0m             \u001b[0mddf\u001b[0m\u001b[1;33m[\u001b[0m\u001b[1;34m'num_four_star_ratings'\u001b[0m\u001b[1;33m]\u001b[0m \u001b[1;33m=\u001b[0m \u001b[0mddf\u001b[0m\u001b[1;33m.\u001b[0m\u001b[0mnum_four_star_ratings\u001b[0m\u001b[1;33m.\u001b[0m\u001b[0mwhere\u001b[0m\u001b[1;33m(\u001b[0m\u001b[0mddf\u001b[0m\u001b[1;33m.\u001b[0m\u001b[0mcustomer_id\u001b[0m \u001b[1;33m==\u001b[0m \u001b[0mcustomer_id\u001b[0m\u001b[1;33m,\u001b[0m \u001b[0mddf\u001b[0m\u001b[1;33m.\u001b[0m\u001b[0mnum_four_star_ratings\u001b[0m\u001b[1;33m-\u001b[0m\u001b[0mint\u001b[0m\u001b[1;33m(\u001b[0m\u001b[0mnum_four_star_ratings\u001b[0m\u001b[1;33m)\u001b[0m\u001b[1;33m)\u001b[0m \u001b[1;33m+\u001b[0m \u001b[0mint\u001b[0m\u001b[1;33m(\u001b[0m\u001b[0mnum_four_star_ratings\u001b[0m\u001b[1;33m)\u001b[0m\u001b[1;33m\u001b[0m\u001b[1;33m\u001b[0m\u001b[0m\n",
      "\u001b[1;32m~\\anaconda3\\lib\\site-packages\\dask\\dataframe\\core.py\u001b[0m in \u001b[0;36m<lambda>\u001b[1;34m(self, other)\u001b[0m\n\u001b[0;32m   1538\u001b[0m             \u001b[1;32mreturn\u001b[0m \u001b[1;32mlambda\u001b[0m \u001b[0mself\u001b[0m\u001b[1;33m,\u001b[0m \u001b[0mother\u001b[0m\u001b[1;33m:\u001b[0m \u001b[0melemwise\u001b[0m\u001b[1;33m(\u001b[0m\u001b[0mop\u001b[0m\u001b[1;33m,\u001b[0m \u001b[0mother\u001b[0m\u001b[1;33m,\u001b[0m \u001b[0mself\u001b[0m\u001b[1;33m)\u001b[0m\u001b[1;33m\u001b[0m\u001b[1;33m\u001b[0m\u001b[0m\n\u001b[0;32m   1539\u001b[0m         \u001b[1;32melse\u001b[0m\u001b[1;33m:\u001b[0m\u001b[1;33m\u001b[0m\u001b[1;33m\u001b[0m\u001b[0m\n\u001b[1;32m-> 1540\u001b[1;33m             \u001b[1;32mreturn\u001b[0m \u001b[1;32mlambda\u001b[0m \u001b[0mself\u001b[0m\u001b[1;33m,\u001b[0m \u001b[0mother\u001b[0m\u001b[1;33m:\u001b[0m \u001b[0melemwise\u001b[0m\u001b[1;33m(\u001b[0m\u001b[0mop\u001b[0m\u001b[1;33m,\u001b[0m \u001b[0mself\u001b[0m\u001b[1;33m,\u001b[0m \u001b[0mother\u001b[0m\u001b[1;33m)\u001b[0m\u001b[1;33m\u001b[0m\u001b[1;33m\u001b[0m\u001b[0m\n\u001b[0m\u001b[0;32m   1541\u001b[0m \u001b[1;33m\u001b[0m\u001b[0m\n\u001b[0;32m   1542\u001b[0m     \u001b[1;32mdef\u001b[0m \u001b[0mrolling\u001b[0m\u001b[1;33m(\u001b[0m\u001b[0mself\u001b[0m\u001b[1;33m,\u001b[0m \u001b[0mwindow\u001b[0m\u001b[1;33m,\u001b[0m \u001b[0mmin_periods\u001b[0m\u001b[1;33m=\u001b[0m\u001b[1;32mNone\u001b[0m\u001b[1;33m,\u001b[0m \u001b[0mcenter\u001b[0m\u001b[1;33m=\u001b[0m\u001b[1;32mFalse\u001b[0m\u001b[1;33m,\u001b[0m \u001b[0mwin_type\u001b[0m\u001b[1;33m=\u001b[0m\u001b[1;32mNone\u001b[0m\u001b[1;33m,\u001b[0m \u001b[0maxis\u001b[0m\u001b[1;33m=\u001b[0m\u001b[1;36m0\u001b[0m\u001b[1;33m)\u001b[0m\u001b[1;33m:\u001b[0m\u001b[1;33m\u001b[0m\u001b[1;33m\u001b[0m\u001b[0m\n",
      "\u001b[1;32m~\\anaconda3\\lib\\site-packages\\dask\\dataframe\\core.py\u001b[0m in \u001b[0;36melemwise\u001b[1;34m(op, *args, **kwargs)\u001b[0m\n\u001b[0;32m   5167\u001b[0m         ]\n\u001b[0;32m   5168\u001b[0m         \u001b[1;32mwith\u001b[0m \u001b[0mraise_on_meta_error\u001b[0m\u001b[1;33m(\u001b[0m\u001b[0mfuncname\u001b[0m\u001b[1;33m(\u001b[0m\u001b[0mop\u001b[0m\u001b[1;33m)\u001b[0m\u001b[1;33m)\u001b[0m\u001b[1;33m:\u001b[0m\u001b[1;33m\u001b[0m\u001b[1;33m\u001b[0m\u001b[0m\n\u001b[1;32m-> 5169\u001b[1;33m             \u001b[0mmeta\u001b[0m \u001b[1;33m=\u001b[0m \u001b[0mpartial_by_order\u001b[0m\u001b[1;33m(\u001b[0m\u001b[1;33m*\u001b[0m\u001b[0mparts\u001b[0m\u001b[1;33m,\u001b[0m \u001b[0mfunction\u001b[0m\u001b[1;33m=\u001b[0m\u001b[0mop\u001b[0m\u001b[1;33m,\u001b[0m \u001b[0mother\u001b[0m\u001b[1;33m=\u001b[0m\u001b[0mother\u001b[0m\u001b[1;33m)\u001b[0m\u001b[1;33m\u001b[0m\u001b[1;33m\u001b[0m\u001b[0m\n\u001b[0m\u001b[0;32m   5170\u001b[0m \u001b[1;33m\u001b[0m\u001b[0m\n\u001b[0;32m   5171\u001b[0m     \u001b[0mresult\u001b[0m \u001b[1;33m=\u001b[0m \u001b[0mnew_dd_object\u001b[0m\u001b[1;33m(\u001b[0m\u001b[0mgraph\u001b[0m\u001b[1;33m,\u001b[0m \u001b[0m_name\u001b[0m\u001b[1;33m,\u001b[0m \u001b[0mmeta\u001b[0m\u001b[1;33m,\u001b[0m \u001b[0mdivisions\u001b[0m\u001b[1;33m)\u001b[0m\u001b[1;33m\u001b[0m\u001b[1;33m\u001b[0m\u001b[0m\n",
      "\u001b[1;32m~\\anaconda3\\lib\\contextlib.py\u001b[0m in \u001b[0;36m__exit__\u001b[1;34m(self, type, value, traceback)\u001b[0m\n\u001b[0;32m    129\u001b[0m                 \u001b[0mvalue\u001b[0m \u001b[1;33m=\u001b[0m \u001b[0mtype\u001b[0m\u001b[1;33m(\u001b[0m\u001b[1;33m)\u001b[0m\u001b[1;33m\u001b[0m\u001b[1;33m\u001b[0m\u001b[0m\n\u001b[0;32m    130\u001b[0m             \u001b[1;32mtry\u001b[0m\u001b[1;33m:\u001b[0m\u001b[1;33m\u001b[0m\u001b[1;33m\u001b[0m\u001b[0m\n\u001b[1;32m--> 131\u001b[1;33m                 \u001b[0mself\u001b[0m\u001b[1;33m.\u001b[0m\u001b[0mgen\u001b[0m\u001b[1;33m.\u001b[0m\u001b[0mthrow\u001b[0m\u001b[1;33m(\u001b[0m\u001b[0mtype\u001b[0m\u001b[1;33m,\u001b[0m \u001b[0mvalue\u001b[0m\u001b[1;33m,\u001b[0m \u001b[0mtraceback\u001b[0m\u001b[1;33m)\u001b[0m\u001b[1;33m\u001b[0m\u001b[1;33m\u001b[0m\u001b[0m\n\u001b[0m\u001b[0;32m    132\u001b[0m             \u001b[1;32mexcept\u001b[0m \u001b[0mStopIteration\u001b[0m \u001b[1;32mas\u001b[0m \u001b[0mexc\u001b[0m\u001b[1;33m:\u001b[0m\u001b[1;33m\u001b[0m\u001b[1;33m\u001b[0m\u001b[0m\n\u001b[0;32m    133\u001b[0m                 \u001b[1;31m# Suppress StopIteration *unless* it's the same exception that\u001b[0m\u001b[1;33m\u001b[0m\u001b[1;33m\u001b[0m\u001b[1;33m\u001b[0m\u001b[0m\n",
      "\u001b[1;32m~\\anaconda3\\lib\\site-packages\\dask\\dataframe\\utils.py\u001b[0m in \u001b[0;36mraise_on_meta_error\u001b[1;34m(funcname, udf)\u001b[0m\n\u001b[0;32m    194\u001b[0m         )\n\u001b[0;32m    195\u001b[0m         \u001b[0mmsg\u001b[0m \u001b[1;33m=\u001b[0m \u001b[0mmsg\u001b[0m\u001b[1;33m.\u001b[0m\u001b[0mformat\u001b[0m\u001b[1;33m(\u001b[0m\u001b[1;34m\" in `{0}`\"\u001b[0m\u001b[1;33m.\u001b[0m\u001b[0mformat\u001b[0m\u001b[1;33m(\u001b[0m\u001b[0mfuncname\u001b[0m\u001b[1;33m)\u001b[0m \u001b[1;32mif\u001b[0m \u001b[0mfuncname\u001b[0m \u001b[1;32melse\u001b[0m \u001b[1;34m\"\"\u001b[0m\u001b[1;33m,\u001b[0m \u001b[0mrepr\u001b[0m\u001b[1;33m(\u001b[0m\u001b[0me\u001b[0m\u001b[1;33m)\u001b[0m\u001b[1;33m,\u001b[0m \u001b[0mtb\u001b[0m\u001b[1;33m)\u001b[0m\u001b[1;33m\u001b[0m\u001b[1;33m\u001b[0m\u001b[0m\n\u001b[1;32m--> 196\u001b[1;33m         \u001b[1;32mraise\u001b[0m \u001b[0mValueError\u001b[0m\u001b[1;33m(\u001b[0m\u001b[0mmsg\u001b[0m\u001b[1;33m)\u001b[0m \u001b[1;32mfrom\u001b[0m \u001b[0me\u001b[0m\u001b[1;33m\u001b[0m\u001b[1;33m\u001b[0m\u001b[0m\n\u001b[0m\u001b[0;32m    197\u001b[0m \u001b[1;33m\u001b[0m\u001b[0m\n\u001b[0;32m    198\u001b[0m \u001b[1;33m\u001b[0m\u001b[0m\n",
      "\u001b[1;31mValueError\u001b[0m: Metadata inference failed in `sub`.\n\nOriginal error is below:\n------------------------\nTypeError(\"unsupported operand type(s) for -: 'str' and 'int'\")\n\nTraceback:\n---------\n  File \"C:\\Users\\brand\\anaconda3\\lib\\site-packages\\dask\\dataframe\\utils.py\", line 175, in raise_on_meta_error\n    yield\n  File \"C:\\Users\\brand\\anaconda3\\lib\\site-packages\\dask\\dataframe\\core.py\", line 5169, in elemwise\n    meta = partial_by_order(*parts, function=op, other=other)\n  File \"C:\\Users\\brand\\anaconda3\\lib\\site-packages\\dask\\utils.py\", line 1107, in partial_by_order\n    return function(*args2, **kwargs)\n  File \"C:\\Users\\brand\\anaconda3\\lib\\site-packages\\pandas\\core\\ops\\common.py\", line 65, in new_method\n    return method(self, other)\n  File \"C:\\Users\\brand\\anaconda3\\lib\\site-packages\\pandas\\core\\arraylike.py\", line 97, in __sub__\n    return self._arith_method(other, operator.sub)\n  File \"C:\\Users\\brand\\anaconda3\\lib\\site-packages\\pandas\\core\\series.py\", line 4998, in _arith_method\n    result = ops.arithmetic_op(lvalues, rvalues, op)\n  File \"C:\\Users\\brand\\anaconda3\\lib\\site-packages\\pandas\\core\\ops\\array_ops.py\", line 189, in arithmetic_op\n    res_values = _na_arithmetic_op(lvalues, rvalues, op)\n  File \"C:\\Users\\brand\\anaconda3\\lib\\site-packages\\pandas\\core\\ops\\array_ops.py\", line 149, in _na_arithmetic_op\n    result = _masked_arith_op(left, right, op)\n  File \"C:\\Users\\brand\\anaconda3\\lib\\site-packages\\pandas\\core\\ops\\array_ops.py\", line 111, in _masked_arith_op\n    result[mask] = op(xrav[mask], y)\n"
     ]
    }
   ],
   "source": [
    "fields = ['customer_id', 'review_id', 'star_rating', 'helpful_votes', 'total_votes', 'vine', 'verified_purchase']\n",
    "batch_num = 0\n",
    "batch_size = 16\n",
    "\n",
    "for j in tqdm(range(len(pd.read_csv(root+\"Gift_Card_v1_00.tsv\", sep='\\t', error_bad_lines=False, usecols=fields))//batch_size)):\n",
    "    Gift_Card_data = pd.read_csv(root+\"Gift_Card_v1_00.tsv\", sep='\\t', error_bad_lines=False, usecols=fields, skiprows=range(1, batch_num*batch_size), nrows=batch_size)\n",
    "\n",
    "#Apparel_data = pd.read_csv(root+\"Digital_Software_v1_00.tsv\", sep='\\t', error_bad_lines=False, usecols=fields)\n",
    "    write_into_csv(Gift_Card_data)\n",
    "    batch_num = batch_num + 1\n"
   ]
  },
  {
   "cell_type": "code",
   "execution_count": null,
   "id": "c23dca19",
   "metadata": {},
   "outputs": [],
   "source": []
  }
 ],
 "metadata": {
  "kernelspec": {
   "display_name": "Python 3",
   "language": "python",
   "name": "python3"
  },
  "language_info": {
   "codemirror_mode": {
    "name": "ipython",
    "version": 3
   },
   "file_extension": ".py",
   "mimetype": "text/x-python",
   "name": "python",
   "nbconvert_exporter": "python",
   "pygments_lexer": "ipython3",
   "version": "3.8.8"
  }
 },
 "nbformat": 4,
 "nbformat_minor": 5
}
