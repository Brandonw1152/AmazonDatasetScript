{
 "cells": [
  {
   "cell_type": "markdown",
   "id": "fb1162e1",
   "metadata": {},
   "source": [
    "# Amazon Dataset Script"
   ]
  },
  {
   "cell_type": "markdown",
   "id": "849579c5",
   "metadata": {},
   "source": [
    "### Import Statements"
   ]
  },
  {
   "cell_type": "code",
   "execution_count": 1,
   "id": "256f8ba3",
   "metadata": {},
   "outputs": [],
   "source": [
    "import pandas as pd\n",
    "import csv\n",
    "import shutil\n",
    "from tempfile import NamedTemporaryFile\n",
    "from tqdm import tqdm"
   ]
  },
  {
   "cell_type": "markdown",
   "id": "890cba3b",
   "metadata": {},
   "source": [
    "### Root for csv files"
   ]
  },
  {
   "cell_type": "code",
   "execution_count": 2,
   "id": "f3f74aca",
   "metadata": {},
   "outputs": [],
   "source": [
    "root = \"H:\\\\AmazonDataset\\\\amazon_reviews_us_\""
   ]
  },
  {
   "cell_type": "markdown",
   "id": "af3a506f",
   "metadata": {},
   "source": [
    "### Create Customer Data csv File"
   ]
  },
  {
   "cell_type": "code",
   "execution_count": 20,
   "id": "4bee8c3e",
   "metadata": {},
   "outputs": [],
   "source": [
    "headers = ['customer_id', 'num_reviews', 'num_five_star_ratings', 'num_four_star_ratings',\n",
    "          'num_three_star_ratings', 'num_two_star_ratings', 'num_one_star_ratings', 'total_helpful_votes', 'vine',\n",
    "          'num_verified_purchases']\n",
    "\n",
    "with open(root+'customer_data.csv', 'w', newline='') as csvfile:\n",
    "    csvwriter = csv.writer(csvfile)\n",
    "    csvwriter.writerow(headers)\n",
    "csvfile.close()"
   ]
  },
  {
   "cell_type": "markdown",
   "id": "c173cd06",
   "metadata": {},
   "source": [
    "### Function For Writing Customer Data Into CSV"
   ]
  },
  {
   "cell_type": "code",
   "execution_count": 21,
   "id": "b1771a8b",
   "metadata": {},
   "outputs": [],
   "source": [
    "def write_into_csv(tsv_data):\n",
    "\n",
    "    for i in tqdm(range(len(tsv_data))):\n",
    "        customer_id = tsv_data.values[i][0]\n",
    "        #print(f\"CustomerID: {customer_id}\")\n",
    "        star_rating = tsv_data.values[i][2]\n",
    "        #print(f\"StarRating: {star_rating}\")\n",
    "        helpful_votes = tsv_data.values[i][3]\n",
    "        #print(f\"HelpfulVotes: {helpful_votes}\")\n",
    "        vine = tsv_data.values[i][5]\n",
    "        num_reviews = 1\n",
    "        #print(f\"NumReviews: {num_reviews}\")\n",
    "\n",
    "        if tsv_data.values[i][6] == 'Y':\n",
    "            verified_purchases = 1\n",
    "        else:\n",
    "            verified_purchases = 0\n",
    "\n",
    "        if star_rating == 1.0:\n",
    "            num_five_star_ratings = 0\n",
    "            num_four_star_ratings = 0\n",
    "            num_three_star_ratings = 0\n",
    "            num_two_star_ratings = 0\n",
    "            num_one_star_ratings = 1\n",
    "        elif star_rating == 2.0:\n",
    "            num_five_star_ratings = 0\n",
    "            num_four_star_ratings = 0\n",
    "            num_three_star_ratings = 0\n",
    "            num_two_star_ratings = 1\n",
    "            num_one_star_ratings = 0\n",
    "        elif star_rating == 3.0:\n",
    "            num_five_star_ratings = 0\n",
    "            num_four_star_ratings = 0\n",
    "            num_three_star_ratings = 1\n",
    "            num_two_star_ratings = 0\n",
    "            num_one_star_ratings = 0\n",
    "        elif star_rating == 4.0:\n",
    "            num_five_star_ratings = 0\n",
    "            num_four_star_ratings = 1\n",
    "            num_three_star_ratings = 0\n",
    "            num_two_star_ratings = 0\n",
    "            num_one_star_ratings = 0\n",
    "        elif star_rating == 5.0:\n",
    "            num_five_star_ratings = 1\n",
    "            num_four_star_ratings = 0\n",
    "            num_three_star_ratings = 0\n",
    "            num_two_star_ratings = 0\n",
    "            num_one_star_ratings = 0\n",
    "\n",
    "        newRow = [customer_id, num_reviews, num_five_star_ratings, num_four_star_ratings, num_three_star_ratings, num_two_star_ratings,\n",
    "              num_one_star_ratings, helpful_votes, vine, verified_purchases]\n",
    "\n",
    "        df = pd.read_csv(root+\"customer_data.csv\")\n",
    "\n",
    "        if customer_id in df.values:\n",
    "            \n",
    "            filename = root + \"customer_data.csv\"\n",
    "            tempfile = NamedTemporaryFile(mode='w', delete=False)\n",
    "            \n",
    "            fields = ['customer_id', 'num_reviews', 'num_five_star_ratings', 'num_four_star_ratings',\n",
    "          'num_three_star_ratings', 'num_two_star_ratings', 'num_one_star_ratings', 'total_helpful_votes', 'vine',\n",
    "          'num_verified_purchases']\n",
    "            \n",
    "            with open(filename, 'r', newline='') as csvfile, tempfile:\n",
    "                reader = csv.DictReader(csvfile, fieldnames = fields)\n",
    "                writer = csv.DictWriter(tempfile, fieldnames = fields)\n",
    "                for row in reader:\n",
    "                    if row['customer_id'] == str(customer_id):\n",
    "                        #print('updating customer', row['customer_id'])\n",
    "                        row['num_reviews'] = str(int(row['num_reviews']) + int(num_reviews))\n",
    "                        row['num_five_star_ratings'] = str(int(row['num_five_star_ratings']) + int(num_five_star_ratings))\n",
    "                        row['num_four_star_ratings'] = str(int(row['num_four_star_ratings']) + int(num_four_star_ratings))\n",
    "                        row['num_three_star_ratings'] = str(int(row['num_three_star_ratings']) + int(num_three_star_ratings))\n",
    "                        row['num_two_star_ratings'] = str(int(row['num_two_star_ratings']) + int(num_two_star_ratings))\n",
    "                        row['num_one_star_ratings'] = str(int(row['num_one_star_ratings']) + int(num_one_star_ratings))\n",
    "                        row['total_helpful_votes'] = str(int(float(row['total_helpful_votes'])) + int(float(helpful_votes)))\n",
    "                        row['vine'] = vine\n",
    "                        row['num_verified_purchases'] = str(int(row['num_verified_purchases']) + int(verified_purchases))\n",
    "                        \n",
    "                    row = {'customer_id': row['customer_id'], 'num_reviews': row['num_reviews'], 'num_five_star_ratings': row['num_five_star_ratings'], \n",
    "                          'num_four_star_ratings': row['num_four_star_ratings'], 'num_three_star_ratings': row['num_three_star_ratings'], 'num_two_star_ratings': row['num_two_star_ratings'],\n",
    "                          'num_one_star_ratings': row['num_one_star_ratings'], 'total_helpful_votes': row['total_helpful_votes'], 'vine': row['vine'],\n",
    "                          'num_verified_purchases': row['num_verified_purchases']}\n",
    "                    writer.writerow(row)\n",
    "                    \n",
    "            shutil.move(tempfile.name, filename)\n",
    "        else:\n",
    "            with open(root+'customer_data.csv', 'a', newline='') as csvfile:\n",
    "                csvwriter = csv.writer(csvfile)\n",
    "                csvwriter.writerow(newRow)\n",
    "            csvfile.close()\n"
   ]
  },
  {
   "cell_type": "markdown",
   "id": "b3ab7055",
   "metadata": {},
   "source": [
    "### Read Apparel_v1_00.tsv"
   ]
  },
  {
   "cell_type": "code",
   "execution_count": 18,
   "id": "c53a6e84",
   "metadata": {
    "scrolled": true
   },
   "outputs": [
    {
     "name": "stderr",
     "output_type": "stream",
     "text": [
      "  0%|          | 39/5881951 [03:34<8970:05:49,  5.49s/it]\n"
     ]
    },
    {
     "ename": "ValueError",
     "evalue": "invalid literal for int() with base 10: '0.0'",
     "output_type": "error",
     "traceback": [
      "\u001b[1;31m---------------------------------------------------------------------------\u001b[0m",
      "\u001b[1;31mValueError\u001b[0m                                Traceback (most recent call last)",
      "\u001b[1;32m<ipython-input-18-5bb6302b52bd>\u001b[0m in \u001b[0;36m<module>\u001b[1;34m\u001b[0m\n\u001b[0;32m      7\u001b[0m \u001b[1;33m\u001b[0m\u001b[0m\n\u001b[0;32m      8\u001b[0m \u001b[0mApparel_data\u001b[0m \u001b[1;33m=\u001b[0m \u001b[0mpd\u001b[0m\u001b[1;33m.\u001b[0m\u001b[0mread_csv\u001b[0m\u001b[1;33m(\u001b[0m\u001b[0mroot\u001b[0m\u001b[1;33m+\u001b[0m\u001b[1;34m\"Apparel_v1_00.tsv\"\u001b[0m\u001b[1;33m,\u001b[0m \u001b[0msep\u001b[0m\u001b[1;33m=\u001b[0m\u001b[1;34m'\\t'\u001b[0m\u001b[1;33m,\u001b[0m \u001b[0merror_bad_lines\u001b[0m\u001b[1;33m=\u001b[0m\u001b[1;32mFalse\u001b[0m\u001b[1;33m,\u001b[0m \u001b[0musecols\u001b[0m\u001b[1;33m=\u001b[0m\u001b[0mfields\u001b[0m\u001b[1;33m)\u001b[0m\u001b[1;33m\u001b[0m\u001b[1;33m\u001b[0m\u001b[0m\n\u001b[1;32m----> 9\u001b[1;33m \u001b[0mwrite_into_csv\u001b[0m\u001b[1;33m(\u001b[0m\u001b[0mApparel_data\u001b[0m\u001b[1;33m)\u001b[0m\u001b[1;33m\u001b[0m\u001b[1;33m\u001b[0m\u001b[0m\n\u001b[0m\u001b[0;32m     10\u001b[0m     \u001b[1;31m#write_into_csv(Apparel_data)\u001b[0m\u001b[1;33m\u001b[0m\u001b[1;33m\u001b[0m\u001b[1;33m\u001b[0m\u001b[0m\n\u001b[0;32m     11\u001b[0m     \u001b[1;31m#batch_num = batch_num + 1\u001b[0m\u001b[1;33m\u001b[0m\u001b[1;33m\u001b[0m\u001b[1;33m\u001b[0m\u001b[0m\n",
      "\u001b[1;32m<ipython-input-16-e35ea68211bf>\u001b[0m in \u001b[0;36mwrite_into_csv\u001b[1;34m(tsv_data)\u001b[0m\n\u001b[0;32m     74\u001b[0m                         \u001b[0mrow\u001b[0m\u001b[1;33m[\u001b[0m\u001b[1;34m'num_two_star_ratings'\u001b[0m\u001b[1;33m]\u001b[0m \u001b[1;33m=\u001b[0m \u001b[0mstr\u001b[0m\u001b[1;33m(\u001b[0m\u001b[0mint\u001b[0m\u001b[1;33m(\u001b[0m\u001b[0mrow\u001b[0m\u001b[1;33m[\u001b[0m\u001b[1;34m'num_two_star_ratings'\u001b[0m\u001b[1;33m]\u001b[0m\u001b[1;33m)\u001b[0m \u001b[1;33m+\u001b[0m \u001b[0mint\u001b[0m\u001b[1;33m(\u001b[0m\u001b[0mnum_two_star_ratings\u001b[0m\u001b[1;33m)\u001b[0m\u001b[1;33m)\u001b[0m\u001b[1;33m\u001b[0m\u001b[1;33m\u001b[0m\u001b[0m\n\u001b[0;32m     75\u001b[0m                         \u001b[0mrow\u001b[0m\u001b[1;33m[\u001b[0m\u001b[1;34m'num_one_star_ratings'\u001b[0m\u001b[1;33m]\u001b[0m \u001b[1;33m=\u001b[0m \u001b[0mstr\u001b[0m\u001b[1;33m(\u001b[0m\u001b[0mint\u001b[0m\u001b[1;33m(\u001b[0m\u001b[0mrow\u001b[0m\u001b[1;33m[\u001b[0m\u001b[1;34m'num_one_star_ratings'\u001b[0m\u001b[1;33m]\u001b[0m\u001b[1;33m)\u001b[0m \u001b[1;33m+\u001b[0m \u001b[0mint\u001b[0m\u001b[1;33m(\u001b[0m\u001b[0mnum_one_star_ratings\u001b[0m\u001b[1;33m)\u001b[0m\u001b[1;33m)\u001b[0m\u001b[1;33m\u001b[0m\u001b[1;33m\u001b[0m\u001b[0m\n\u001b[1;32m---> 76\u001b[1;33m                         \u001b[0mrow\u001b[0m\u001b[1;33m[\u001b[0m\u001b[1;34m'total_helpful_votes'\u001b[0m\u001b[1;33m]\u001b[0m \u001b[1;33m=\u001b[0m \u001b[0mstr\u001b[0m\u001b[1;33m(\u001b[0m\u001b[0mint\u001b[0m\u001b[1;33m(\u001b[0m\u001b[0mrow\u001b[0m\u001b[1;33m[\u001b[0m\u001b[1;34m'total_helpful_votes'\u001b[0m\u001b[1;33m]\u001b[0m\u001b[1;33m)\u001b[0m \u001b[1;33m+\u001b[0m \u001b[0mint\u001b[0m\u001b[1;33m(\u001b[0m\u001b[0mhelpful_votes\u001b[0m\u001b[1;33m)\u001b[0m\u001b[1;33m)\u001b[0m\u001b[1;33m\u001b[0m\u001b[1;33m\u001b[0m\u001b[0m\n\u001b[0m\u001b[0;32m     77\u001b[0m                         \u001b[0mrow\u001b[0m\u001b[1;33m[\u001b[0m\u001b[1;34m'vine'\u001b[0m\u001b[1;33m]\u001b[0m \u001b[1;33m=\u001b[0m \u001b[0mvine\u001b[0m\u001b[1;33m\u001b[0m\u001b[1;33m\u001b[0m\u001b[0m\n\u001b[0;32m     78\u001b[0m                         \u001b[0mrow\u001b[0m\u001b[1;33m[\u001b[0m\u001b[1;34m'num_verified_purchases'\u001b[0m\u001b[1;33m]\u001b[0m \u001b[1;33m=\u001b[0m \u001b[0mstr\u001b[0m\u001b[1;33m(\u001b[0m\u001b[0mint\u001b[0m\u001b[1;33m(\u001b[0m\u001b[0mfloat\u001b[0m\u001b[1;33m(\u001b[0m\u001b[0mrow\u001b[0m\u001b[1;33m[\u001b[0m\u001b[1;34m'num_verified_purchases'\u001b[0m\u001b[1;33m]\u001b[0m\u001b[1;33m)\u001b[0m\u001b[1;33m)\u001b[0m \u001b[1;33m+\u001b[0m \u001b[0mint\u001b[0m\u001b[1;33m(\u001b[0m\u001b[0mfloat\u001b[0m\u001b[1;33m(\u001b[0m\u001b[0mverified_purchases\u001b[0m\u001b[1;33m)\u001b[0m\u001b[1;33m)\u001b[0m\u001b[1;33m)\u001b[0m\u001b[1;33m\u001b[0m\u001b[1;33m\u001b[0m\u001b[0m\n",
      "\u001b[1;31mValueError\u001b[0m: invalid literal for int() with base 10: '0.0'"
     ]
    }
   ],
   "source": [
    "fields = ['customer_id', 'review_id', 'star_rating', 'helpful_votes', 'total_votes', 'vine', 'verified_purchase']\n",
    "batch_num = 0\n",
    "batch_size = 128\n",
    "\n",
    "#for j in tqdm(range(len(pd.read_csv(root+\"Apparel_v1_00.tsv\", sep='\\t', error_bad_lines=False, usecols=fields))//batch_size)):\n",
    "    #Apparel_data = pd.read_csv(root+\"Apparel_v1_00.tsv\", sep='\\t', error_bad_lines=False, usecols=fields, skiprows=range(1, batch_num*batch_size), nrows=batch_size)\n",
    "\n",
    "Apparel_data = pd.read_csv(root+\"Apparel_v1_00.tsv\", sep='\\t', error_bad_lines=False, usecols=fields)\n",
    "write_into_csv(Apparel_data)    \n",
    "    #write_into_csv(Apparel_data)\n",
    "    #batch_num = batch_num + 1"
   ]
  },
  {
   "cell_type": "markdown",
   "id": "70465bc7",
   "metadata": {},
   "source": [
    "### Read Digital_Software_v1_00.tsv"
   ]
  },
  {
   "cell_type": "code",
   "execution_count": 22,
   "id": "157b8c6d",
   "metadata": {},
   "outputs": [
    {
     "name": "stderr",
     "output_type": "stream",
     "text": [
      "100%|██████████| 101836/101836 [4:17:55<00:00,  6.58it/s] \n"
     ]
    }
   ],
   "source": [
    "fields = ['customer_id', 'review_id', 'star_rating', 'helpful_votes', 'total_votes', 'vine', 'verified_purchase']\n",
    "batch_num = 0\n",
    "batch_size = 128\n",
    "\n",
    "#for j in tqdm(range(len(pd.read_csv(root+\"Apparel_v1_00.tsv\", sep='\\t', error_bad_lines=False, usecols=fields))//batch_size)):\n",
    "    #Apparel_data = pd.read_csv(root+\"Apparel_v1_00.tsv\", sep='\\t', error_bad_lines=False, usecols=fields, skiprows=range(1, batch_num*batch_size), nrows=batch_size)\n",
    "\n",
    "Apparel_data = pd.read_csv(root+\"Digital_Software_v1_00.tsv\", sep='\\t', error_bad_lines=False, usecols=fields)\n",
    "write_into_csv(Apparel_data)    \n",
    "    #write_into_csv(Apparel_data)\n",
    "    #batch_num = batch_num + 1"
   ]
  },
  {
   "cell_type": "code",
   "execution_count": null,
   "id": "5db87def",
   "metadata": {},
   "outputs": [],
   "source": []
  }
 ],
 "metadata": {
  "kernelspec": {
   "display_name": "Python 3",
   "language": "python",
   "name": "python3"
  },
  "language_info": {
   "codemirror_mode": {
    "name": "ipython",
    "version": 3
   },
   "file_extension": ".py",
   "mimetype": "text/x-python",
   "name": "python",
   "nbconvert_exporter": "python",
   "pygments_lexer": "ipython3",
   "version": "3.8.8"
  }
 },
 "nbformat": 4,
 "nbformat_minor": 5
}
